{
 "cells": [
  {
   "cell_type": "code",
   "execution_count": 1,
   "id": "81fb8277",
   "metadata": {},
   "outputs": [],
   "source": [
    "%matplotlib inline\n",
    "\n",
    "import pandas as pd\n",
    "import numpy as np\n",
    "import warnings\n",
    "import pylab as plt\n",
    "import seaborn as sns\n",
    "warnings.filterwarnings(\"ignore\")\n",
    "pd.set_option('display.max_columns', None)\n",
    "import kaggle"
   ]
  },
  {
   "cell_type": "raw",
   "id": "25f76a27",
   "metadata": {},
   "source": [
    "1. EDA\n",
    "2. Transformar datos\n",
    "3. Train test split\n",
    "    1. Evaluar, calcular RMSE\n",
    "4. Modelar\n",
    "5. Reentrenar con todos los datos (salaries, sin train test split)\n",
    "6. Predicción y subida\n",
    "7. Comparar Public Kaggle con los resultados del train test split"
   ]
  },
  {
   "cell_type": "code",
   "execution_count": 2,
   "id": "222c0670",
   "metadata": {},
   "outputs": [],
   "source": [
    "salaries=pd.read_csv('data/model_data/salaries_USD.csv')"
   ]
  },
  {
   "cell_type": "code",
   "execution_count": 3,
   "id": "16ba2848",
   "metadata": {},
   "outputs": [],
   "source": [
    "test=pd.read_csv('data/model_data/test_USD.csv')"
   ]
  },
  {
   "cell_type": "code",
   "execution_count": 4,
   "id": "5fee9d85",
   "metadata": {},
   "outputs": [],
   "source": [
    "salaries_num= salaries._get_numeric_data()"
   ]
  },
  {
   "cell_type": "code",
   "execution_count": 5,
   "id": "4087e326",
   "metadata": {},
   "outputs": [
    {
     "data": {
      "text/plain": [
       "Index(['Unnamed: 0', 'work_year', 'salary', 'salary_in_usd', 'remote_ratio'], dtype='object')"
      ]
     },
     "execution_count": 5,
     "metadata": {},
     "output_type": "execute_result"
    }
   ],
   "source": [
    "salaries_num.columns"
   ]
  },
  {
   "cell_type": "code",
   "execution_count": 6,
   "id": "24b02f8a",
   "metadata": {},
   "outputs": [],
   "source": [
    "salaries_num.drop('Unnamed: 0', axis=1, inplace=True)"
   ]
  },
  {
   "cell_type": "code",
   "execution_count": 7,
   "id": "d8aa9471",
   "metadata": {},
   "outputs": [],
   "source": [
    "test_num = test._get_numeric_data()"
   ]
  },
  {
   "cell_type": "code",
   "execution_count": 8,
   "id": "f162bbf6",
   "metadata": {},
   "outputs": [],
   "source": [
    "test_num.drop('Unnamed: 0', axis=1, inplace=True)"
   ]
  },
  {
   "cell_type": "code",
   "execution_count": 9,
   "id": "407c72a4",
   "metadata": {},
   "outputs": [
    {
     "data": {
      "text/html": [
       "<div>\n",
       "<style scoped>\n",
       "    .dataframe tbody tr th:only-of-type {\n",
       "        vertical-align: middle;\n",
       "    }\n",
       "\n",
       "    .dataframe tbody tr th {\n",
       "        vertical-align: top;\n",
       "    }\n",
       "\n",
       "    .dataframe thead th {\n",
       "        text-align: right;\n",
       "    }\n",
       "</style>\n",
       "<table border=\"1\" class=\"dataframe\">\n",
       "  <thead>\n",
       "    <tr style=\"text-align: right;\">\n",
       "      <th></th>\n",
       "      <th>work_year</th>\n",
       "      <th>salary</th>\n",
       "      <th>salary_in_usd</th>\n",
       "      <th>remote_ratio</th>\n",
       "    </tr>\n",
       "  </thead>\n",
       "  <tbody>\n",
       "    <tr>\n",
       "      <th>0</th>\n",
       "      <td>2022</td>\n",
       "      <td>140250</td>\n",
       "      <td>140250</td>\n",
       "      <td>100</td>\n",
       "    </tr>\n",
       "    <tr>\n",
       "      <th>1</th>\n",
       "      <td>2022</td>\n",
       "      <td>135000</td>\n",
       "      <td>135000</td>\n",
       "      <td>100</td>\n",
       "    </tr>\n",
       "    <tr>\n",
       "      <th>2</th>\n",
       "      <td>2021</td>\n",
       "      <td>100000</td>\n",
       "      <td>100000</td>\n",
       "      <td>100</td>\n",
       "    </tr>\n",
       "    <tr>\n",
       "      <th>3</th>\n",
       "      <td>2021</td>\n",
       "      <td>270000</td>\n",
       "      <td>270000</td>\n",
       "      <td>100</td>\n",
       "    </tr>\n",
       "    <tr>\n",
       "      <th>4</th>\n",
       "      <td>2022</td>\n",
       "      <td>153000</td>\n",
       "      <td>153000</td>\n",
       "      <td>50</td>\n",
       "    </tr>\n",
       "  </tbody>\n",
       "</table>\n",
       "</div>"
      ],
      "text/plain": [
       "   work_year  salary  salary_in_usd  remote_ratio\n",
       "0       2022  140250         140250           100\n",
       "1       2022  135000         135000           100\n",
       "2       2021  100000         100000           100\n",
       "3       2021  270000         270000           100\n",
       "4       2022  153000         153000            50"
      ]
     },
     "execution_count": 9,
     "metadata": {},
     "output_type": "execute_result"
    }
   ],
   "source": [
    "salaries_num.head()"
   ]
  },
  {
   "cell_type": "markdown",
   "id": "565d5d0c",
   "metadata": {},
   "source": [
    "# x es salaries"
   ]
  },
  {
   "cell_type": "code",
   "execution_count": 10,
   "id": "1d4525ed",
   "metadata": {},
   "outputs": [],
   "source": [
    "from sklearn.model_selection import train_test_split as tts  # el alias es cosa mia\n",
    "\n",
    "X=salaries_num.drop(['salary', 'salary_in_usd'], axis=1)  # separacion X y\n",
    "\n",
    "y=salaries_num.salary_in_usd"
   ]
  },
  {
   "cell_type": "code",
   "execution_count": 11,
   "id": "8c71dd5b",
   "metadata": {},
   "outputs": [
    {
     "data": {
      "text/plain": [
       "((222, 2), (56, 2), (222,), (56,))"
      ]
     },
     "execution_count": 11,
     "metadata": {},
     "output_type": "execute_result"
    }
   ],
   "source": [
    "X_train, X_test, y_train, y_test = tts(X, y, train_size=0.8, test_size=0.2, random_state=42)\n",
    "\n",
    "X_train.shape, X_test.shape, y_train.shape, y_test.shape"
   ]
  },
  {
   "cell_type": "markdown",
   "id": "b542ff3a",
   "metadata": {},
   "source": [
    "**Regresión Lineal**"
   ]
  },
  {
   "cell_type": "code",
   "execution_count": 12,
   "id": "3f2dd51a",
   "metadata": {},
   "outputs": [],
   "source": [
    "from sklearn.linear_model import LinearRegression as LinReg\n",
    "from sklearn.linear_model import Lasso\n",
    "from sklearn.linear_model import Ridge\n",
    "from sklearn.linear_model import ElasticNet\n",
    "\n",
    "\n",
    "\n",
    "# se inician los modelos\n",
    "linreg=LinReg()\n",
    "lasso=Lasso()\n",
    "ridge=Ridge()\n",
    "elastic=ElasticNet()"
   ]
  },
  {
   "cell_type": "markdown",
   "id": "d5335da3",
   "metadata": {},
   "source": [
    "**SVR**"
   ]
  },
  {
   "cell_type": "code",
   "execution_count": 13,
   "id": "13e63e1e",
   "metadata": {},
   "outputs": [],
   "source": [
    "from sklearn.svm import SVR  # support vector regressor\n",
    "\n",
    "svr=SVR()"
   ]
  },
  {
   "cell_type": "markdown",
   "id": "a6160a2f",
   "metadata": {},
   "source": [
    "**Random Forest**"
   ]
  },
  {
   "cell_type": "code",
   "execution_count": 19,
   "id": "81f843a1",
   "metadata": {},
   "outputs": [],
   "source": [
    "from sklearn.ensemble import RandomForestRegressor as RFR  \n",
    "from sklearn.tree import ExtraTreeRegressor as ETR\n",
    "\n",
    "rfr=RFR()\n",
    "etr=ETR()"
   ]
  },
  {
   "cell_type": "code",
   "execution_count": 20,
   "id": "fd087f6d",
   "metadata": {},
   "outputs": [],
   "source": [
    "from sklearn.ensemble import GradientBoostingRegressor as GBR\n",
    "\n",
    "from xgboost import XGBRegressor as XGBR\n",
    "\n",
    "from catboost import CatBoostRegressor as CTR\n",
    "\n",
    "from lightgbm import LGBMRegressor as LGBMR\n",
    "\n",
    "\n",
    "gbr=GBR()\n",
    "xgbr=XGBR()\n",
    "ctr=CTR()\n",
    "lgbmr=LGBMR()"
   ]
  },
  {
   "cell_type": "code",
   "execution_count": 21,
   "id": "bd1dd2d6",
   "metadata": {},
   "outputs": [
    {
     "data": {
      "text/plain": [
       "ElasticNet()"
      ]
     },
     "execution_count": 21,
     "metadata": {},
     "output_type": "execute_result"
    }
   ],
   "source": [
    "linreg.fit(X_train, y_train)\n",
    "lasso.fit(X_train, y_train)\n",
    "ridge.fit(X_train, y_train)\n",
    "elastic.fit(X_train, y_train)"
   ]
  },
  {
   "cell_type": "code",
   "execution_count": 22,
   "id": "27854eb9",
   "metadata": {},
   "outputs": [
    {
     "data": {
      "text/plain": [
       "array([2589.30892024,   62.44916357])"
      ]
     },
     "execution_count": 22,
     "metadata": {},
     "output_type": "execute_result"
    }
   ],
   "source": [
    "linreg.coef_"
   ]
  },
  {
   "cell_type": "code",
   "execution_count": 23,
   "id": "9eb86ad7",
   "metadata": {},
   "outputs": [
    {
     "data": {
      "text/plain": [
       "SVR()"
      ]
     },
     "execution_count": 23,
     "metadata": {},
     "output_type": "execute_result"
    }
   ],
   "source": [
    "svr.fit(X_train, y_train)"
   ]
  },
  {
   "cell_type": "code",
   "execution_count": 24,
   "id": "d8dfd732",
   "metadata": {},
   "outputs": [
    {
     "data": {
      "text/plain": [
       "ExtraTreeRegressor()"
      ]
     },
     "execution_count": 24,
     "metadata": {},
     "output_type": "execute_result"
    }
   ],
   "source": [
    "rfr.fit(X_train, y_train)\n",
    "etr.fit(X_train, y_train)"
   ]
  },
  {
   "cell_type": "code",
   "execution_count": 25,
   "id": "3b3ce863",
   "metadata": {},
   "outputs": [
    {
     "data": {
      "text/plain": [
       "GradientBoostingRegressor()"
      ]
     },
     "execution_count": 25,
     "metadata": {},
     "output_type": "execute_result"
    }
   ],
   "source": [
    "gbr.fit(X_train, y_train)"
   ]
  },
  {
   "cell_type": "code",
   "execution_count": 26,
   "id": "f0a3bb40",
   "metadata": {
    "scrolled": true
   },
   "outputs": [
    {
     "data": {
      "text/plain": [
       "XGBRegressor(base_score=0.5, booster='gbtree', callbacks=None,\n",
       "             colsample_bylevel=1, colsample_bynode=1, colsample_bytree=1,\n",
       "             early_stopping_rounds=None, enable_categorical=False,\n",
       "             eval_metric=None, gamma=0, gpu_id=-1, grow_policy='depthwise',\n",
       "             importance_type=None, interaction_constraints='',\n",
       "             learning_rate=0.300000012, max_bin=256, max_cat_to_onehot=4,\n",
       "             max_delta_step=0, max_depth=6, max_leaves=0, min_child_weight=1,\n",
       "             missing=nan, monotone_constraints='()', n_estimators=100, n_jobs=0,\n",
       "             num_parallel_tree=1, predictor='auto', random_state=0, reg_alpha=0,\n",
       "             reg_lambda=1, ...)"
      ]
     },
     "execution_count": 26,
     "metadata": {},
     "output_type": "execute_result"
    }
   ],
   "source": [
    "xgbr.fit(X_train, y_train)"
   ]
  },
  {
   "cell_type": "code",
   "execution_count": 27,
   "id": "5555f572",
   "metadata": {},
   "outputs": [
    {
     "data": {
      "text/plain": [
       "<catboost.core.CatBoostRegressor at 0x1bd891929e0>"
      ]
     },
     "execution_count": 27,
     "metadata": {},
     "output_type": "execute_result"
    }
   ],
   "source": [
    "ctr.fit(X_train, y_train, verbose=0)"
   ]
  },
  {
   "cell_type": "code",
   "execution_count": 28,
   "id": "e1732dbb",
   "metadata": {},
   "outputs": [
    {
     "data": {
      "text/plain": [
       "LGBMRegressor()"
      ]
     },
     "execution_count": 28,
     "metadata": {},
     "output_type": "execute_result"
    }
   ],
   "source": [
    "lgbmr.fit(X_train, y_train)"
   ]
  },
  {
   "cell_type": "code",
   "execution_count": 52,
   "id": "0a621f32",
   "metadata": {
    "scrolled": true
   },
   "outputs": [
    {
     "data": {
      "text/plain": [
       "array([139117.9705751 , 141707.27949534, 139117.9705751 , 141707.27949534,\n",
       "       139117.9705751 , 135995.51239635, 136528.66165486, 141707.27949534,\n",
       "       141707.27949534, 135462.36313785, 133406.20347611, 135462.36313785,\n",
       "       139117.9705751 , 139117.9705751 , 141707.27949534, 135995.51239635,\n",
       "       135462.36313785, 141707.27949534, 141707.27949534, 135462.36313785,\n",
       "       141707.27949534, 135995.51239635, 141707.27949534, 132873.05421761,\n",
       "       141707.27949534, 135462.36313785, 135462.36313785, 141707.27949534,\n",
       "       141707.27949534, 139117.9705751 , 139117.9705751 , 133406.20347611,\n",
       "       141707.27949534, 139117.9705751 , 141707.27949534, 141707.27949534,\n",
       "       135462.36313785, 141707.27949534, 141707.27949534, 141707.27949534,\n",
       "       135995.51239635, 132873.05421761, 133406.20347611, 135462.36313785,\n",
       "       136528.66165486, 135462.36313785, 141707.27949534, 141707.27949534,\n",
       "       132873.05421761, 141707.27949534, 139117.9705751 , 135462.36313785,\n",
       "       136528.66165486, 135995.51239635, 141707.27949534, 135995.51239635])"
      ]
     },
     "execution_count": 52,
     "metadata": {},
     "output_type": "execute_result"
    }
   ],
   "source": [
    "linreg.predict(X_test)"
   ]
  },
  {
   "cell_type": "code",
   "execution_count": 55,
   "id": "3aebe1c7",
   "metadata": {},
   "outputs": [],
   "source": [
    "df = pd.DataFrame(linreg.predict(X_test), \n",
    "             columns=['salary_in_usd'])"
   ]
  },
  {
   "cell_type": "code",
   "execution_count": 56,
   "id": "3ff2e2cb",
   "metadata": {},
   "outputs": [
    {
     "data": {
      "text/html": [
       "<div>\n",
       "<style scoped>\n",
       "    .dataframe tbody tr th:only-of-type {\n",
       "        vertical-align: middle;\n",
       "    }\n",
       "\n",
       "    .dataframe tbody tr th {\n",
       "        vertical-align: top;\n",
       "    }\n",
       "\n",
       "    .dataframe thead th {\n",
       "        text-align: right;\n",
       "    }\n",
       "</style>\n",
       "<table border=\"1\" class=\"dataframe\">\n",
       "  <thead>\n",
       "    <tr style=\"text-align: right;\">\n",
       "      <th></th>\n",
       "      <th>salary_in_usd</th>\n",
       "    </tr>\n",
       "  </thead>\n",
       "  <tbody>\n",
       "    <tr>\n",
       "      <th>0</th>\n",
       "      <td>139117.970575</td>\n",
       "    </tr>\n",
       "    <tr>\n",
       "      <th>1</th>\n",
       "      <td>141707.279495</td>\n",
       "    </tr>\n",
       "    <tr>\n",
       "      <th>2</th>\n",
       "      <td>139117.970575</td>\n",
       "    </tr>\n",
       "    <tr>\n",
       "      <th>3</th>\n",
       "      <td>141707.279495</td>\n",
       "    </tr>\n",
       "    <tr>\n",
       "      <th>4</th>\n",
       "      <td>139117.970575</td>\n",
       "    </tr>\n",
       "    <tr>\n",
       "      <th>5</th>\n",
       "      <td>135995.512396</td>\n",
       "    </tr>\n",
       "    <tr>\n",
       "      <th>6</th>\n",
       "      <td>136528.661655</td>\n",
       "    </tr>\n",
       "    <tr>\n",
       "      <th>7</th>\n",
       "      <td>141707.279495</td>\n",
       "    </tr>\n",
       "    <tr>\n",
       "      <th>8</th>\n",
       "      <td>141707.279495</td>\n",
       "    </tr>\n",
       "    <tr>\n",
       "      <th>9</th>\n",
       "      <td>135462.363138</td>\n",
       "    </tr>\n",
       "    <tr>\n",
       "      <th>10</th>\n",
       "      <td>133406.203476</td>\n",
       "    </tr>\n",
       "    <tr>\n",
       "      <th>11</th>\n",
       "      <td>135462.363138</td>\n",
       "    </tr>\n",
       "    <tr>\n",
       "      <th>12</th>\n",
       "      <td>139117.970575</td>\n",
       "    </tr>\n",
       "    <tr>\n",
       "      <th>13</th>\n",
       "      <td>139117.970575</td>\n",
       "    </tr>\n",
       "    <tr>\n",
       "      <th>14</th>\n",
       "      <td>141707.279495</td>\n",
       "    </tr>\n",
       "    <tr>\n",
       "      <th>15</th>\n",
       "      <td>135995.512396</td>\n",
       "    </tr>\n",
       "    <tr>\n",
       "      <th>16</th>\n",
       "      <td>135462.363138</td>\n",
       "    </tr>\n",
       "    <tr>\n",
       "      <th>17</th>\n",
       "      <td>141707.279495</td>\n",
       "    </tr>\n",
       "    <tr>\n",
       "      <th>18</th>\n",
       "      <td>141707.279495</td>\n",
       "    </tr>\n",
       "    <tr>\n",
       "      <th>19</th>\n",
       "      <td>135462.363138</td>\n",
       "    </tr>\n",
       "    <tr>\n",
       "      <th>20</th>\n",
       "      <td>141707.279495</td>\n",
       "    </tr>\n",
       "    <tr>\n",
       "      <th>21</th>\n",
       "      <td>135995.512396</td>\n",
       "    </tr>\n",
       "    <tr>\n",
       "      <th>22</th>\n",
       "      <td>141707.279495</td>\n",
       "    </tr>\n",
       "    <tr>\n",
       "      <th>23</th>\n",
       "      <td>132873.054218</td>\n",
       "    </tr>\n",
       "    <tr>\n",
       "      <th>24</th>\n",
       "      <td>141707.279495</td>\n",
       "    </tr>\n",
       "    <tr>\n",
       "      <th>25</th>\n",
       "      <td>135462.363138</td>\n",
       "    </tr>\n",
       "    <tr>\n",
       "      <th>26</th>\n",
       "      <td>135462.363138</td>\n",
       "    </tr>\n",
       "    <tr>\n",
       "      <th>27</th>\n",
       "      <td>141707.279495</td>\n",
       "    </tr>\n",
       "    <tr>\n",
       "      <th>28</th>\n",
       "      <td>141707.279495</td>\n",
       "    </tr>\n",
       "    <tr>\n",
       "      <th>29</th>\n",
       "      <td>139117.970575</td>\n",
       "    </tr>\n",
       "    <tr>\n",
       "      <th>30</th>\n",
       "      <td>139117.970575</td>\n",
       "    </tr>\n",
       "    <tr>\n",
       "      <th>31</th>\n",
       "      <td>133406.203476</td>\n",
       "    </tr>\n",
       "    <tr>\n",
       "      <th>32</th>\n",
       "      <td>141707.279495</td>\n",
       "    </tr>\n",
       "    <tr>\n",
       "      <th>33</th>\n",
       "      <td>139117.970575</td>\n",
       "    </tr>\n",
       "    <tr>\n",
       "      <th>34</th>\n",
       "      <td>141707.279495</td>\n",
       "    </tr>\n",
       "    <tr>\n",
       "      <th>35</th>\n",
       "      <td>141707.279495</td>\n",
       "    </tr>\n",
       "    <tr>\n",
       "      <th>36</th>\n",
       "      <td>135462.363138</td>\n",
       "    </tr>\n",
       "    <tr>\n",
       "      <th>37</th>\n",
       "      <td>141707.279495</td>\n",
       "    </tr>\n",
       "    <tr>\n",
       "      <th>38</th>\n",
       "      <td>141707.279495</td>\n",
       "    </tr>\n",
       "    <tr>\n",
       "      <th>39</th>\n",
       "      <td>141707.279495</td>\n",
       "    </tr>\n",
       "    <tr>\n",
       "      <th>40</th>\n",
       "      <td>135995.512396</td>\n",
       "    </tr>\n",
       "    <tr>\n",
       "      <th>41</th>\n",
       "      <td>132873.054218</td>\n",
       "    </tr>\n",
       "    <tr>\n",
       "      <th>42</th>\n",
       "      <td>133406.203476</td>\n",
       "    </tr>\n",
       "    <tr>\n",
       "      <th>43</th>\n",
       "      <td>135462.363138</td>\n",
       "    </tr>\n",
       "    <tr>\n",
       "      <th>44</th>\n",
       "      <td>136528.661655</td>\n",
       "    </tr>\n",
       "    <tr>\n",
       "      <th>45</th>\n",
       "      <td>135462.363138</td>\n",
       "    </tr>\n",
       "    <tr>\n",
       "      <th>46</th>\n",
       "      <td>141707.279495</td>\n",
       "    </tr>\n",
       "    <tr>\n",
       "      <th>47</th>\n",
       "      <td>141707.279495</td>\n",
       "    </tr>\n",
       "    <tr>\n",
       "      <th>48</th>\n",
       "      <td>132873.054218</td>\n",
       "    </tr>\n",
       "    <tr>\n",
       "      <th>49</th>\n",
       "      <td>141707.279495</td>\n",
       "    </tr>\n",
       "    <tr>\n",
       "      <th>50</th>\n",
       "      <td>139117.970575</td>\n",
       "    </tr>\n",
       "    <tr>\n",
       "      <th>51</th>\n",
       "      <td>135462.363138</td>\n",
       "    </tr>\n",
       "    <tr>\n",
       "      <th>52</th>\n",
       "      <td>136528.661655</td>\n",
       "    </tr>\n",
       "    <tr>\n",
       "      <th>53</th>\n",
       "      <td>135995.512396</td>\n",
       "    </tr>\n",
       "    <tr>\n",
       "      <th>54</th>\n",
       "      <td>141707.279495</td>\n",
       "    </tr>\n",
       "    <tr>\n",
       "      <th>55</th>\n",
       "      <td>135995.512396</td>\n",
       "    </tr>\n",
       "  </tbody>\n",
       "</table>\n",
       "</div>"
      ],
      "text/plain": [
       "    salary_in_usd\n",
       "0   139117.970575\n",
       "1   141707.279495\n",
       "2   139117.970575\n",
       "3   141707.279495\n",
       "4   139117.970575\n",
       "5   135995.512396\n",
       "6   136528.661655\n",
       "7   141707.279495\n",
       "8   141707.279495\n",
       "9   135462.363138\n",
       "10  133406.203476\n",
       "11  135462.363138\n",
       "12  139117.970575\n",
       "13  139117.970575\n",
       "14  141707.279495\n",
       "15  135995.512396\n",
       "16  135462.363138\n",
       "17  141707.279495\n",
       "18  141707.279495\n",
       "19  135462.363138\n",
       "20  141707.279495\n",
       "21  135995.512396\n",
       "22  141707.279495\n",
       "23  132873.054218\n",
       "24  141707.279495\n",
       "25  135462.363138\n",
       "26  135462.363138\n",
       "27  141707.279495\n",
       "28  141707.279495\n",
       "29  139117.970575\n",
       "30  139117.970575\n",
       "31  133406.203476\n",
       "32  141707.279495\n",
       "33  139117.970575\n",
       "34  141707.279495\n",
       "35  141707.279495\n",
       "36  135462.363138\n",
       "37  141707.279495\n",
       "38  141707.279495\n",
       "39  141707.279495\n",
       "40  135995.512396\n",
       "41  132873.054218\n",
       "42  133406.203476\n",
       "43  135462.363138\n",
       "44  136528.661655\n",
       "45  135462.363138\n",
       "46  141707.279495\n",
       "47  141707.279495\n",
       "48  132873.054218\n",
       "49  141707.279495\n",
       "50  139117.970575\n",
       "51  135462.363138\n",
       "52  136528.661655\n",
       "53  135995.512396\n",
       "54  141707.279495\n",
       "55  135995.512396"
      ]
     },
     "execution_count": 56,
     "metadata": {},
     "output_type": "execute_result"
    }
   ],
   "source": [
    "df"
   ]
  },
  {
   "cell_type": "code",
   "execution_count": 53,
   "id": "85de3455",
   "metadata": {
    "scrolled": true
   },
   "outputs": [
    {
     "data": {
      "text/plain": [
       "array([139118.95127863, 141706.06132749, 139118.95127863, 141706.06132749,\n",
       "       139118.95127863, 135996.51502871, 136531.84122976, 141706.06132749,\n",
       "       141706.06132749, 135461.18882766, 133409.40497984, 135461.18882766,\n",
       "       139118.95127863, 139118.95127863, 141706.06132749, 135996.51502871,\n",
       "       135461.18882766, 141706.06132749, 141706.06132749, 135461.18882766,\n",
       "       141706.06132749, 135996.51502871, 141706.06132749, 132874.07877879,\n",
       "       141706.06132749, 135461.18882766, 135461.18882766, 141706.06132749,\n",
       "       141706.06132749, 139118.95127863, 139118.95127863, 133409.40497984,\n",
       "       141706.06132749, 139118.95127863, 141706.06132749, 141706.06132749,\n",
       "       135461.18882766, 141706.06132749, 141706.06132749, 141706.06132749,\n",
       "       135996.51502871, 132874.07877879, 133409.40497984, 135461.18882766,\n",
       "       136531.84122976, 135461.18882766, 141706.06132749, 141706.06132749,\n",
       "       132874.07877879, 141706.06132749, 139118.95127863, 135461.18882766,\n",
       "       136531.84122976, 135996.51502871, 141706.06132749, 135996.51502871])"
      ]
     },
     "execution_count": 53,
     "metadata": {},
     "output_type": "execute_result"
    }
   ],
   "source": [
    "lasso.predict(X_test)"
   ]
  },
  {
   "cell_type": "code",
   "execution_count": 58,
   "id": "7e2fef21",
   "metadata": {},
   "outputs": [],
   "source": [
    "df1 = pd.DataFrame(linreg.predict(X_test), \n",
    "             columns=['salary_in_usd'])"
   ]
  },
  {
   "cell_type": "code",
   "execution_count": 59,
   "id": "471a831e",
   "metadata": {},
   "outputs": [
    {
     "data": {
      "text/html": [
       "<div>\n",
       "<style scoped>\n",
       "    .dataframe tbody tr th:only-of-type {\n",
       "        vertical-align: middle;\n",
       "    }\n",
       "\n",
       "    .dataframe tbody tr th {\n",
       "        vertical-align: top;\n",
       "    }\n",
       "\n",
       "    .dataframe thead th {\n",
       "        text-align: right;\n",
       "    }\n",
       "</style>\n",
       "<table border=\"1\" class=\"dataframe\">\n",
       "  <thead>\n",
       "    <tr style=\"text-align: right;\">\n",
       "      <th></th>\n",
       "      <th>salary_in_usd</th>\n",
       "    </tr>\n",
       "  </thead>\n",
       "  <tbody>\n",
       "    <tr>\n",
       "      <th>0</th>\n",
       "      <td>139117.970575</td>\n",
       "    </tr>\n",
       "    <tr>\n",
       "      <th>1</th>\n",
       "      <td>141707.279495</td>\n",
       "    </tr>\n",
       "    <tr>\n",
       "      <th>2</th>\n",
       "      <td>139117.970575</td>\n",
       "    </tr>\n",
       "    <tr>\n",
       "      <th>3</th>\n",
       "      <td>141707.279495</td>\n",
       "    </tr>\n",
       "    <tr>\n",
       "      <th>4</th>\n",
       "      <td>139117.970575</td>\n",
       "    </tr>\n",
       "    <tr>\n",
       "      <th>5</th>\n",
       "      <td>135995.512396</td>\n",
       "    </tr>\n",
       "    <tr>\n",
       "      <th>6</th>\n",
       "      <td>136528.661655</td>\n",
       "    </tr>\n",
       "    <tr>\n",
       "      <th>7</th>\n",
       "      <td>141707.279495</td>\n",
       "    </tr>\n",
       "    <tr>\n",
       "      <th>8</th>\n",
       "      <td>141707.279495</td>\n",
       "    </tr>\n",
       "    <tr>\n",
       "      <th>9</th>\n",
       "      <td>135462.363138</td>\n",
       "    </tr>\n",
       "    <tr>\n",
       "      <th>10</th>\n",
       "      <td>133406.203476</td>\n",
       "    </tr>\n",
       "    <tr>\n",
       "      <th>11</th>\n",
       "      <td>135462.363138</td>\n",
       "    </tr>\n",
       "    <tr>\n",
       "      <th>12</th>\n",
       "      <td>139117.970575</td>\n",
       "    </tr>\n",
       "    <tr>\n",
       "      <th>13</th>\n",
       "      <td>139117.970575</td>\n",
       "    </tr>\n",
       "    <tr>\n",
       "      <th>14</th>\n",
       "      <td>141707.279495</td>\n",
       "    </tr>\n",
       "    <tr>\n",
       "      <th>15</th>\n",
       "      <td>135995.512396</td>\n",
       "    </tr>\n",
       "    <tr>\n",
       "      <th>16</th>\n",
       "      <td>135462.363138</td>\n",
       "    </tr>\n",
       "    <tr>\n",
       "      <th>17</th>\n",
       "      <td>141707.279495</td>\n",
       "    </tr>\n",
       "    <tr>\n",
       "      <th>18</th>\n",
       "      <td>141707.279495</td>\n",
       "    </tr>\n",
       "    <tr>\n",
       "      <th>19</th>\n",
       "      <td>135462.363138</td>\n",
       "    </tr>\n",
       "    <tr>\n",
       "      <th>20</th>\n",
       "      <td>141707.279495</td>\n",
       "    </tr>\n",
       "    <tr>\n",
       "      <th>21</th>\n",
       "      <td>135995.512396</td>\n",
       "    </tr>\n",
       "    <tr>\n",
       "      <th>22</th>\n",
       "      <td>141707.279495</td>\n",
       "    </tr>\n",
       "    <tr>\n",
       "      <th>23</th>\n",
       "      <td>132873.054218</td>\n",
       "    </tr>\n",
       "    <tr>\n",
       "      <th>24</th>\n",
       "      <td>141707.279495</td>\n",
       "    </tr>\n",
       "    <tr>\n",
       "      <th>25</th>\n",
       "      <td>135462.363138</td>\n",
       "    </tr>\n",
       "    <tr>\n",
       "      <th>26</th>\n",
       "      <td>135462.363138</td>\n",
       "    </tr>\n",
       "    <tr>\n",
       "      <th>27</th>\n",
       "      <td>141707.279495</td>\n",
       "    </tr>\n",
       "    <tr>\n",
       "      <th>28</th>\n",
       "      <td>141707.279495</td>\n",
       "    </tr>\n",
       "    <tr>\n",
       "      <th>29</th>\n",
       "      <td>139117.970575</td>\n",
       "    </tr>\n",
       "    <tr>\n",
       "      <th>30</th>\n",
       "      <td>139117.970575</td>\n",
       "    </tr>\n",
       "    <tr>\n",
       "      <th>31</th>\n",
       "      <td>133406.203476</td>\n",
       "    </tr>\n",
       "    <tr>\n",
       "      <th>32</th>\n",
       "      <td>141707.279495</td>\n",
       "    </tr>\n",
       "    <tr>\n",
       "      <th>33</th>\n",
       "      <td>139117.970575</td>\n",
       "    </tr>\n",
       "    <tr>\n",
       "      <th>34</th>\n",
       "      <td>141707.279495</td>\n",
       "    </tr>\n",
       "    <tr>\n",
       "      <th>35</th>\n",
       "      <td>141707.279495</td>\n",
       "    </tr>\n",
       "    <tr>\n",
       "      <th>36</th>\n",
       "      <td>135462.363138</td>\n",
       "    </tr>\n",
       "    <tr>\n",
       "      <th>37</th>\n",
       "      <td>141707.279495</td>\n",
       "    </tr>\n",
       "    <tr>\n",
       "      <th>38</th>\n",
       "      <td>141707.279495</td>\n",
       "    </tr>\n",
       "    <tr>\n",
       "      <th>39</th>\n",
       "      <td>141707.279495</td>\n",
       "    </tr>\n",
       "    <tr>\n",
       "      <th>40</th>\n",
       "      <td>135995.512396</td>\n",
       "    </tr>\n",
       "    <tr>\n",
       "      <th>41</th>\n",
       "      <td>132873.054218</td>\n",
       "    </tr>\n",
       "    <tr>\n",
       "      <th>42</th>\n",
       "      <td>133406.203476</td>\n",
       "    </tr>\n",
       "    <tr>\n",
       "      <th>43</th>\n",
       "      <td>135462.363138</td>\n",
       "    </tr>\n",
       "    <tr>\n",
       "      <th>44</th>\n",
       "      <td>136528.661655</td>\n",
       "    </tr>\n",
       "    <tr>\n",
       "      <th>45</th>\n",
       "      <td>135462.363138</td>\n",
       "    </tr>\n",
       "    <tr>\n",
       "      <th>46</th>\n",
       "      <td>141707.279495</td>\n",
       "    </tr>\n",
       "    <tr>\n",
       "      <th>47</th>\n",
       "      <td>141707.279495</td>\n",
       "    </tr>\n",
       "    <tr>\n",
       "      <th>48</th>\n",
       "      <td>132873.054218</td>\n",
       "    </tr>\n",
       "    <tr>\n",
       "      <th>49</th>\n",
       "      <td>141707.279495</td>\n",
       "    </tr>\n",
       "    <tr>\n",
       "      <th>50</th>\n",
       "      <td>139117.970575</td>\n",
       "    </tr>\n",
       "    <tr>\n",
       "      <th>51</th>\n",
       "      <td>135462.363138</td>\n",
       "    </tr>\n",
       "    <tr>\n",
       "      <th>52</th>\n",
       "      <td>136528.661655</td>\n",
       "    </tr>\n",
       "    <tr>\n",
       "      <th>53</th>\n",
       "      <td>135995.512396</td>\n",
       "    </tr>\n",
       "    <tr>\n",
       "      <th>54</th>\n",
       "      <td>141707.279495</td>\n",
       "    </tr>\n",
       "    <tr>\n",
       "      <th>55</th>\n",
       "      <td>135995.512396</td>\n",
       "    </tr>\n",
       "  </tbody>\n",
       "</table>\n",
       "</div>"
      ],
      "text/plain": [
       "    salary_in_usd\n",
       "0   139117.970575\n",
       "1   141707.279495\n",
       "2   139117.970575\n",
       "3   141707.279495\n",
       "4   139117.970575\n",
       "5   135995.512396\n",
       "6   136528.661655\n",
       "7   141707.279495\n",
       "8   141707.279495\n",
       "9   135462.363138\n",
       "10  133406.203476\n",
       "11  135462.363138\n",
       "12  139117.970575\n",
       "13  139117.970575\n",
       "14  141707.279495\n",
       "15  135995.512396\n",
       "16  135462.363138\n",
       "17  141707.279495\n",
       "18  141707.279495\n",
       "19  135462.363138\n",
       "20  141707.279495\n",
       "21  135995.512396\n",
       "22  141707.279495\n",
       "23  132873.054218\n",
       "24  141707.279495\n",
       "25  135462.363138\n",
       "26  135462.363138\n",
       "27  141707.279495\n",
       "28  141707.279495\n",
       "29  139117.970575\n",
       "30  139117.970575\n",
       "31  133406.203476\n",
       "32  141707.279495\n",
       "33  139117.970575\n",
       "34  141707.279495\n",
       "35  141707.279495\n",
       "36  135462.363138\n",
       "37  141707.279495\n",
       "38  141707.279495\n",
       "39  141707.279495\n",
       "40  135995.512396\n",
       "41  132873.054218\n",
       "42  133406.203476\n",
       "43  135462.363138\n",
       "44  136528.661655\n",
       "45  135462.363138\n",
       "46  141707.279495\n",
       "47  141707.279495\n",
       "48  132873.054218\n",
       "49  141707.279495\n",
       "50  139117.970575\n",
       "51  135462.363138\n",
       "52  136528.661655\n",
       "53  135995.512396\n",
       "54  141707.279495\n",
       "55  135995.512396"
      ]
     },
     "execution_count": 59,
     "metadata": {},
     "output_type": "execute_result"
    }
   ],
   "source": [
    "df1"
   ]
  },
  {
   "cell_type": "code",
   "execution_count": 61,
   "id": "4010a228",
   "metadata": {},
   "outputs": [
    {
     "data": {
      "text/html": [
       "<div>\n",
       "<style scoped>\n",
       "    .dataframe tbody tr th:only-of-type {\n",
       "        vertical-align: middle;\n",
       "    }\n",
       "\n",
       "    .dataframe tbody tr th {\n",
       "        vertical-align: top;\n",
       "    }\n",
       "\n",
       "    .dataframe thead th {\n",
       "        text-align: right;\n",
       "    }\n",
       "</style>\n",
       "<table border=\"1\" class=\"dataframe\">\n",
       "  <thead>\n",
       "    <tr style=\"text-align: right;\">\n",
       "      <th></th>\n",
       "      <th>id</th>\n",
       "      <th>salary_in_usd</th>\n",
       "    </tr>\n",
       "  </thead>\n",
       "  <tbody>\n",
       "    <tr>\n",
       "      <th>0</th>\n",
       "      <td>0</td>\n",
       "      <td>23351</td>\n",
       "    </tr>\n",
       "    <tr>\n",
       "      <th>1</th>\n",
       "      <td>1</td>\n",
       "      <td>48576</td>\n",
       "    </tr>\n",
       "    <tr>\n",
       "      <th>2</th>\n",
       "      <td>2</td>\n",
       "      <td>86706</td>\n",
       "    </tr>\n",
       "    <tr>\n",
       "      <th>3</th>\n",
       "      <td>3</td>\n",
       "      <td>13457</td>\n",
       "    </tr>\n",
       "    <tr>\n",
       "      <th>4</th>\n",
       "      <td>4</td>\n",
       "      <td>23096</td>\n",
       "    </tr>\n",
       "    <tr>\n",
       "      <th>...</th>\n",
       "      <td>...</td>\n",
       "      <td>...</td>\n",
       "    </tr>\n",
       "    <tr>\n",
       "      <th>102</th>\n",
       "      <td>102</td>\n",
       "      <td>98408</td>\n",
       "    </tr>\n",
       "    <tr>\n",
       "      <th>103</th>\n",
       "      <td>103</td>\n",
       "      <td>11305</td>\n",
       "    </tr>\n",
       "    <tr>\n",
       "      <th>104</th>\n",
       "      <td>104</td>\n",
       "      <td>70769</td>\n",
       "    </tr>\n",
       "    <tr>\n",
       "      <th>105</th>\n",
       "      <td>105</td>\n",
       "      <td>53423</td>\n",
       "    </tr>\n",
       "    <tr>\n",
       "      <th>106</th>\n",
       "      <td>106</td>\n",
       "      <td>72091</td>\n",
       "    </tr>\n",
       "  </tbody>\n",
       "</table>\n",
       "<p>107 rows × 2 columns</p>\n",
       "</div>"
      ],
      "text/plain": [
       "      id  salary_in_usd\n",
       "0      0          23351\n",
       "1      1          48576\n",
       "2      2          86706\n",
       "3      3          13457\n",
       "4      4          23096\n",
       "..   ...            ...\n",
       "102  102          98408\n",
       "103  103          11305\n",
       "104  104          70769\n",
       "105  105          53423\n",
       "106  106          72091\n",
       "\n",
       "[107 rows x 2 columns]"
      ]
     },
     "execution_count": 61,
     "metadata": {},
     "output_type": "execute_result"
    }
   ],
   "source": [
    "pd.read_csv('data/old_data/sample.csv')"
   ]
  },
  {
   "cell_type": "code",
   "execution_count": 31,
   "id": "b5df781c",
   "metadata": {},
   "outputs": [
    {
     "data": {
      "text/plain": [
       "array([139129.4539809 , 141693.36573846, 139129.4539809 , 141693.36573846,\n",
       "       139129.4539809 , 136006.89883427, 136565.54222334, 141693.36573846,\n",
       "       141693.36573846, 135448.2554452 ])"
      ]
     },
     "execution_count": 31,
     "metadata": {},
     "output_type": "execute_result"
    }
   ],
   "source": [
    "ridge.predict(X_test)[:10]"
   ]
  },
  {
   "cell_type": "code",
   "execution_count": 32,
   "id": "9479981b",
   "metadata": {},
   "outputs": [
    {
     "data": {
      "text/plain": [
       "array([139731.10583523, 140963.86680229, 139731.10583523, 140963.86680229,\n",
       "       139731.10583523, 136603.98874304, 138498.34486817, 140963.86680229,\n",
       "       140963.86680229, 134709.63261791])"
      ]
     },
     "execution_count": 32,
     "metadata": {},
     "output_type": "execute_result"
    }
   ],
   "source": [
    "elastic.predict(X_test)[:10]"
   ]
  },
  {
   "cell_type": "code",
   "execution_count": 33,
   "id": "85a2c52c",
   "metadata": {},
   "outputs": [
    {
     "data": {
      "text/plain": [
       "array([132320.02899649, 132320.02901338, 132320.02899649, 132320.02901338,\n",
       "       132320.02899649, 132319.99997809, 132320.02897956, 132320.02901338,\n",
       "       132320.02901338, 132319.97098703])"
      ]
     },
     "execution_count": 33,
     "metadata": {},
     "output_type": "execute_result"
    }
   ],
   "source": [
    "svr.predict(X_test)[:10]"
   ]
  },
  {
   "cell_type": "code",
   "execution_count": 34,
   "id": "895fe088",
   "metadata": {},
   "outputs": [
    {
     "data": {
      "text/plain": [
       "array([137645.89717234, 144856.08243552, 137645.89717234, 144856.08243552,\n",
       "       137645.89717234, 139060.9651468 , 127301.57851842, 144856.08243552,\n",
       "       144856.08243552, 133126.00695413])"
      ]
     },
     "execution_count": 34,
     "metadata": {},
     "output_type": "execute_result"
    }
   ],
   "source": [
    "rfr.predict(X_test)[:10]"
   ]
  },
  {
   "cell_type": "code",
   "execution_count": 35,
   "id": "b273ab5d",
   "metadata": {},
   "outputs": [
    {
     "data": {
      "text/plain": [
       "array([137223.63636364, 143850.45263158, 137223.63636364, 143850.45263158,\n",
       "       137223.63636364, 138428.42857143, 126973.52941176, 143850.45263158,\n",
       "       143850.45263158, 133661.73076923])"
      ]
     },
     "execution_count": 35,
     "metadata": {},
     "output_type": "execute_result"
    }
   ],
   "source": [
    "etr.predict(X_test)[:10]"
   ]
  },
  {
   "cell_type": "code",
   "execution_count": 50,
   "id": "60243cf2",
   "metadata": {},
   "outputs": [
    {
     "data": {
      "text/plain": [
       "array([137205.37690166, 143858.38950502, 137205.37690166, 143858.38950502,\n",
       "       137205.37690166, 138654.90498737, 126988.02053511, 143858.38950502,\n",
       "       143858.38950502, 133672.58853887, 199757.44866974, 133672.58853887,\n",
       "       137205.37690166, 137205.37690166, 143858.38950502, 138654.90498737,\n",
       "       133672.58853887, 143858.38950502, 143858.38950502, 133672.58853887,\n",
       "       143858.38950502, 138654.90498737, 143858.38950502, 120113.32302085,\n",
       "       143858.38950502, 133672.58853887, 133672.58853887, 143858.38950502,\n",
       "       143858.38950502, 137205.37690166, 137205.37690166, 199757.44866974,\n",
       "       143858.38950502, 137205.37690166, 143858.38950502, 143858.38950502,\n",
       "       133672.58853887, 143858.38950502, 143858.38950502, 143858.38950502,\n",
       "       138654.90498737, 120113.32302085, 199757.44866974, 133672.58853887,\n",
       "       126988.02053511, 133672.58853887, 143858.38950502, 143858.38950502,\n",
       "       120113.32302085, 143858.38950502, 137205.37690166, 133672.58853887,\n",
       "       126988.02053511, 138654.90498737, 143858.38950502, 138654.90498737])"
      ]
     },
     "execution_count": 50,
     "metadata": {},
     "output_type": "execute_result"
    }
   ],
   "source": [
    "gbr.predict(X_test)"
   ]
  },
  {
   "cell_type": "code",
   "execution_count": 48,
   "id": "708256ae",
   "metadata": {},
   "outputs": [
    {
     "data": {
      "text/plain": [
       "array([137223.62, 143850.44, 137223.62, 143850.44, 137223.62, 138428.4 ,\n",
       "       126973.52, 143850.44, 143850.44, 133661.72, 199999.95, 133661.72,\n",
       "       137223.62, 137223.62, 143850.44, 138428.4 , 133661.72, 143850.44,\n",
       "       143850.44, 133661.72, 143850.44, 138428.4 , 143850.44, 120153.56,\n",
       "       143850.44, 133661.72, 133661.72, 143850.44, 143850.44, 137223.62,\n",
       "       137223.62, 199999.95, 143850.44, 137223.62, 143850.44, 143850.44,\n",
       "       133661.72, 143850.44, 143850.44, 143850.44, 138428.4 , 120153.56,\n",
       "       199999.95, 133661.72, 126973.52, 133661.72, 143850.44, 143850.44,\n",
       "       120153.56, 143850.44, 137223.62, 133661.72, 126973.52, 138428.4 ,\n",
       "       143850.44, 138428.4 ], dtype=float32)"
      ]
     },
     "execution_count": 48,
     "metadata": {},
     "output_type": "execute_result"
    }
   ],
   "source": [
    "xgbr.predict(X_test)"
   ]
  },
  {
   "cell_type": "code",
   "execution_count": 38,
   "id": "5be0f58d",
   "metadata": {},
   "outputs": [
    {
     "data": {
      "text/plain": [
       "array([137223.63636358, 143850.45263157, 137223.63636358, 143850.45263157,\n",
       "       137223.63636358, 138428.43138012, 126973.52941474, 143850.45263157,\n",
       "       143850.45263157, 133661.73025564])"
      ]
     },
     "execution_count": 38,
     "metadata": {},
     "output_type": "execute_result"
    }
   ],
   "source": [
    "ctr.predict(X_test)[:10]"
   ]
  },
  {
   "cell_type": "code",
   "execution_count": 39,
   "id": "1431d2bb",
   "metadata": {
    "scrolled": true
   },
   "outputs": [
    {
     "data": {
      "text/plain": [
       "array([134905.79259991, 143774.27381976, 134905.79259991, 143774.27381976,\n",
       "       134905.79259991, 138841.77103811, 136638.46011467, 143774.27381976,\n",
       "       143774.27381976, 132198.10487924])"
      ]
     },
     "execution_count": 39,
     "metadata": {},
     "output_type": "execute_result"
    }
   ],
   "source": [
    "lgbmr.predict(X_test)[:10]"
   ]
  },
  {
   "cell_type": "markdown",
   "id": "23c93900",
   "metadata": {},
   "source": [
    "### 7. Evaluación"
   ]
  },
  {
   "cell_type": "code",
   "execution_count": 40,
   "id": "313ac3b4",
   "metadata": {},
   "outputs": [
    {
     "data": {
      "text/plain": [
       "30       9272\n",
       "126    161342\n",
       "199     90000\n",
       "142    126500\n",
       "253     50000\n",
       "Name: salary_in_usd, dtype: int64"
      ]
     },
     "execution_count": 40,
     "metadata": {},
     "output_type": "execute_result"
    }
   ],
   "source": [
    "y_test.head()"
   ]
  },
  {
   "cell_type": "code",
   "execution_count": 41,
   "id": "e3803603",
   "metadata": {},
   "outputs": [],
   "source": [
    "from sklearn.metrics import mean_squared_error as mse  # error cuadratico medio"
   ]
  },
  {
   "cell_type": "code",
   "execution_count": 42,
   "id": "2b975b36",
   "metadata": {},
   "outputs": [
    {
     "data": {
      "text/plain": [
       "70623.99159378039"
      ]
     },
     "execution_count": 42,
     "metadata": {},
     "output_type": "execute_result"
    }
   ],
   "source": [
    "# regresion lineal\n",
    "\n",
    "y_pred=linreg.predict(X_test)\n",
    "\n",
    "mse(y_test, y_pred, squared=False)    # RMSE"
   ]
  },
  {
   "cell_type": "code",
   "execution_count": 43,
   "id": "42ac643e",
   "metadata": {},
   "outputs": [
    {
     "data": {
      "text/plain": [
       "75249.28640096482"
      ]
     },
     "execution_count": 43,
     "metadata": {},
     "output_type": "execute_result"
    }
   ],
   "source": [
    "# rfr\n",
    "\n",
    "y_pred=rfr.predict(X_test)\n",
    "\n",
    "mse(y_test, y_pred, squared=False)  # RMSE"
   ]
  },
  {
   "cell_type": "code",
   "execution_count": null,
   "id": "9edc906b",
   "metadata": {},
   "outputs": [],
   "source": [
    "# svr\n",
    "\n",
    "y_pred=svr.predict(X_test)\n",
    "\n",
    "mse(y_test, y_pred, squared=False)  # RMSE"
   ]
  },
  {
   "cell_type": "code",
   "execution_count": 44,
   "id": "5ee5a3ae",
   "metadata": {},
   "outputs": [
    {
     "data": {
      "text/plain": [
       "75713.2425450172"
      ]
     },
     "execution_count": 44,
     "metadata": {},
     "output_type": "execute_result"
    }
   ],
   "source": [
    "# boosting\n",
    "\n",
    "y_pred=xgbr.predict(X_test)\n",
    "\n",
    "mse(y_test, y_pred, squared=False)  # RMSE"
   ]
  },
  {
   "cell_type": "code",
   "execution_count": 45,
   "id": "5ba32aa2",
   "metadata": {},
   "outputs": [
    {
     "data": {
      "text/plain": [
       "75713.14777221609"
      ]
     },
     "execution_count": 45,
     "metadata": {},
     "output_type": "execute_result"
    }
   ],
   "source": [
    "y_pred=ctr.predict(X_test)\n",
    "\n",
    "mse(y_test, y_pred, squared=False)  # RMSE"
   ]
  },
  {
   "cell_type": "code",
   "execution_count": 46,
   "id": "9a766d05",
   "metadata": {},
   "outputs": [
    {
     "data": {
      "text/plain": [
       "74573.54832909645"
      ]
     },
     "execution_count": 46,
     "metadata": {},
     "output_type": "execute_result"
    }
   ],
   "source": [
    "y_pred=ctr.predict(X_train)  # error en el entrenamiento\n",
    "\n",
    "mse(y_train, y_pred, squared=False)  # RMSE"
   ]
  },
  {
   "cell_type": "code",
   "execution_count": null,
   "id": "fc10a2e4",
   "metadata": {},
   "outputs": [],
   "source": []
  }
 ],
 "metadata": {
  "kernelspec": {
   "display_name": "Python [conda env:kaggle] *",
   "language": "python",
   "name": "conda-env-kaggle-py"
  },
  "language_info": {
   "codemirror_mode": {
    "name": "ipython",
    "version": 3
   },
   "file_extension": ".py",
   "mimetype": "text/x-python",
   "name": "python",
   "nbconvert_exporter": "python",
   "pygments_lexer": "ipython3",
   "version": "3.10.0"
  }
 },
 "nbformat": 4,
 "nbformat_minor": 5
}
