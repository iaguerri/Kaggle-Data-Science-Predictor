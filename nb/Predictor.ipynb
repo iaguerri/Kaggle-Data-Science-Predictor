{
 "cells": [
  {
   "cell_type": "markdown",
   "id": "42963430",
   "metadata": {},
   "source": [
    "# Kaggle Competition"
   ]
  },
  {
   "cell_type": "markdown",
   "id": "62397d50",
   "metadata": {},
   "source": [
    "## Import libraries"
   ]
  },
  {
   "cell_type": "code",
   "execution_count": 1,
   "id": "c67f1986",
   "metadata": {},
   "outputs": [],
   "source": [
    "%matplotlib inline\n",
    "\n",
    "import pandas as pd\n",
    "import numpy as np\n",
    "import warnings\n",
    "import pylab as plt\n",
    "import seaborn as sns\n",
    "warnings.filterwarnings(\"ignore\")\n",
    "pd.set_option('display.max_columns', None)\n",
    "import kaggle"
   ]
  },
  {
   "cell_type": "raw",
   "id": "c9b9a090",
   "metadata": {},
   "source": [
    "1. EDA\n",
    "2. Transformar datos\n",
    "3. Train test split\n",
    "    1. Evaluar, calcular RMSE\n",
    "4. Modelar\n",
    "5. Reentrenar con todos los datos (salaries, sin train test split)\n",
    "6. Predicción y subida\n",
    "7. Comparar Public Kaggle con los resultados del train test split"
   ]
  },
  {
   "cell_type": "markdown",
   "id": "6241026a",
   "metadata": {},
   "source": [
    "## Import data"
   ]
  },
  {
   "cell_type": "code",
   "execution_count": 2,
   "id": "04fcbaab",
   "metadata": {},
   "outputs": [
    {
     "name": "stdout",
     "output_type": "stream",
     "text": [
      "D:\\IRONHACK\\labs_projects\\Projects\\Kaggle-Data-Science-Predictor\\data\n"
     ]
    }
   ],
   "source": [
    "%cd D:\\IRONHACK\\labs_projects\\Projects\\Kaggle-Data-Science-Predictor\\data"
   ]
  },
  {
   "cell_type": "code",
   "execution_count": 3,
   "id": "32f34779",
   "metadata": {
    "scrolled": true
   },
   "outputs": [
    {
     "name": "stdout",
     "output_type": "stream",
     "text": [
      "predict-the-salary-for-data-science-jobs.zip: Skipping, found more recently modified local copy (use --force to force download)\n"
     ]
    },
    {
     "name": "stderr",
     "output_type": "stream",
     "text": [
      "El sistema no puede encontrar la ruta especificada.\n"
     ]
    }
   ],
   "source": [
    "!kaggle competitions download -c predict-the-salary-for-data-science-jobs"
   ]
  },
  {
   "cell_type": "code",
   "execution_count": 4,
   "id": "be9421a8",
   "metadata": {},
   "outputs": [],
   "source": [
    "import shutil\n",
    "shutil.unpack_archive('predict-the-salary-for-data-science-jobs.zip', 'D:\\IRONHACK\\labs_projects\\Projects\\Kaggle-Data-Science-Predictor\\data\\old_data')"
   ]
  },
  {
   "cell_type": "code",
   "execution_count": 5,
   "id": "6c8a14e8",
   "metadata": {},
   "outputs": [
    {
     "name": "stdout",
     "output_type": "stream",
     "text": [
      "D:\\IRONHACK\\labs_projects\\Projects\\Kaggle-Data-Science-Predictor\n"
     ]
    }
   ],
   "source": [
    "%cd .."
   ]
  },
  {
   "cell_type": "markdown",
   "id": "a4ab8e25",
   "metadata": {},
   "source": [
    "### 1. EDA"
   ]
  },
  {
   "cell_type": "markdown",
   "id": "cf58c51a",
   "metadata": {},
   "source": [
    "- salaries_data.csv\n",
    "\n",
    " + se puede borrar columnas, filas, etc\n",
    " + entrenar (X/Y)\n",
    " + x train / x split\n",
    "\n",
    "- test.csv\n",
    "\n",
    " + NO se borran **FILAS**"
   ]
  },
  {
   "cell_type": "code",
   "execution_count": 141,
   "id": "acbcd700",
   "metadata": {},
   "outputs": [],
   "source": [
    "salaries= pd.read_csv('data/old_data/salaries_data.csv')\n",
    "\n",
    "test = pd.read_csv('data/old_data/test.csv')"
   ]
  },
  {
   "cell_type": "markdown",
   "id": "5f6ce9af",
   "metadata": {},
   "source": [
    "### Salaries"
   ]
  },
  {
   "cell_type": "code",
   "execution_count": 47,
   "id": "8d460149",
   "metadata": {
    "scrolled": true
   },
   "outputs": [
    {
     "data": {
      "text/html": [
       "<div>\n",
       "<style scoped>\n",
       "    .dataframe tbody tr th:only-of-type {\n",
       "        vertical-align: middle;\n",
       "    }\n",
       "\n",
       "    .dataframe tbody tr th {\n",
       "        vertical-align: top;\n",
       "    }\n",
       "\n",
       "    .dataframe thead th {\n",
       "        text-align: right;\n",
       "    }\n",
       "</style>\n",
       "<table border=\"1\" class=\"dataframe\">\n",
       "  <thead>\n",
       "    <tr style=\"text-align: right;\">\n",
       "      <th></th>\n",
       "      <th>work_year</th>\n",
       "      <th>experience_level</th>\n",
       "      <th>employment_type</th>\n",
       "      <th>job_title</th>\n",
       "      <th>salary</th>\n",
       "      <th>salary_currency</th>\n",
       "      <th>salary_in_usd</th>\n",
       "      <th>employee_residence</th>\n",
       "      <th>remote_ratio</th>\n",
       "      <th>company_location</th>\n",
       "      <th>company_size</th>\n",
       "    </tr>\n",
       "  </thead>\n",
       "  <tbody>\n",
       "    <tr>\n",
       "      <th>0</th>\n",
       "      <td>2022</td>\n",
       "      <td>SE</td>\n",
       "      <td>FT</td>\n",
       "      <td>Data Engineer</td>\n",
       "      <td>140250</td>\n",
       "      <td>USD</td>\n",
       "      <td>140250</td>\n",
       "      <td>US</td>\n",
       "      <td>100</td>\n",
       "      <td>US</td>\n",
       "      <td>M</td>\n",
       "    </tr>\n",
       "    <tr>\n",
       "      <th>1</th>\n",
       "      <td>2022</td>\n",
       "      <td>SE</td>\n",
       "      <td>FT</td>\n",
       "      <td>Data Engineer</td>\n",
       "      <td>135000</td>\n",
       "      <td>USD</td>\n",
       "      <td>135000</td>\n",
       "      <td>US</td>\n",
       "      <td>100</td>\n",
       "      <td>US</td>\n",
       "      <td>M</td>\n",
       "    </tr>\n",
       "    <tr>\n",
       "      <th>2</th>\n",
       "      <td>2021</td>\n",
       "      <td>MI</td>\n",
       "      <td>FT</td>\n",
       "      <td>BI Data Analyst</td>\n",
       "      <td>100000</td>\n",
       "      <td>USD</td>\n",
       "      <td>100000</td>\n",
       "      <td>US</td>\n",
       "      <td>100</td>\n",
       "      <td>US</td>\n",
       "      <td>M</td>\n",
       "    </tr>\n",
       "    <tr>\n",
       "      <th>3</th>\n",
       "      <td>2021</td>\n",
       "      <td>MI</td>\n",
       "      <td>CT</td>\n",
       "      <td>ML Engineer</td>\n",
       "      <td>270000</td>\n",
       "      <td>USD</td>\n",
       "      <td>270000</td>\n",
       "      <td>US</td>\n",
       "      <td>100</td>\n",
       "      <td>US</td>\n",
       "      <td>L</td>\n",
       "    </tr>\n",
       "    <tr>\n",
       "      <th>4</th>\n",
       "      <td>2021</td>\n",
       "      <td>MI</td>\n",
       "      <td>FT</td>\n",
       "      <td>Data Engineer</td>\n",
       "      <td>22000</td>\n",
       "      <td>EUR</td>\n",
       "      <td>26005</td>\n",
       "      <td>RO</td>\n",
       "      <td>0</td>\n",
       "      <td>US</td>\n",
       "      <td>L</td>\n",
       "    </tr>\n",
       "  </tbody>\n",
       "</table>\n",
       "</div>"
      ],
      "text/plain": [
       "   work_year experience_level employment_type        job_title  salary  \\\n",
       "0       2022               SE              FT    Data Engineer  140250   \n",
       "1       2022               SE              FT    Data Engineer  135000   \n",
       "2       2021               MI              FT  BI Data Analyst  100000   \n",
       "3       2021               MI              CT      ML Engineer  270000   \n",
       "4       2021               MI              FT    Data Engineer   22000   \n",
       "\n",
       "  salary_currency  salary_in_usd employee_residence  remote_ratio  \\\n",
       "0             USD         140250                 US           100   \n",
       "1             USD         135000                 US           100   \n",
       "2             USD         100000                 US           100   \n",
       "3             USD         270000                 US           100   \n",
       "4             EUR          26005                 RO             0   \n",
       "\n",
       "  company_location company_size  \n",
       "0               US            M  \n",
       "1               US            M  \n",
       "2               US            M  \n",
       "3               US            L  \n",
       "4               US            L  "
      ]
     },
     "execution_count": 47,
     "metadata": {},
     "output_type": "execute_result"
    }
   ],
   "source": [
    "salaries.head()"
   ]
  },
  {
   "cell_type": "code",
   "execution_count": 142,
   "id": "9d9571da",
   "metadata": {},
   "outputs": [
    {
     "data": {
      "text/plain": [
       "(500, 11)"
      ]
     },
     "execution_count": 142,
     "metadata": {},
     "output_type": "execute_result"
    }
   ],
   "source": [
    "salaries.shape"
   ]
  },
  {
   "cell_type": "code",
   "execution_count": 143,
   "id": "b81dc4d3",
   "metadata": {},
   "outputs": [
    {
     "name": "stdout",
     "output_type": "stream",
     "text": [
      "<class 'pandas.core.frame.DataFrame'>\n",
      "RangeIndex: 500 entries, 0 to 499\n",
      "Data columns (total 11 columns):\n",
      " #   Column              Non-Null Count  Dtype \n",
      "---  ------              --------------  ----- \n",
      " 0   work_year           500 non-null    int64 \n",
      " 1   experience_level    500 non-null    object\n",
      " 2   employment_type     500 non-null    object\n",
      " 3   job_title           500 non-null    object\n",
      " 4   salary              500 non-null    int64 \n",
      " 5   salary_currency     500 non-null    object\n",
      " 6   salary_in_usd       500 non-null    int64 \n",
      " 7   employee_residence  500 non-null    object\n",
      " 8   remote_ratio        500 non-null    int64 \n",
      " 9   company_location    500 non-null    object\n",
      " 10  company_size        500 non-null    object\n",
      "dtypes: int64(4), object(7)\n",
      "memory usage: 43.1+ KB\n"
     ]
    }
   ],
   "source": [
    "salaries.info()"
   ]
  },
  {
   "cell_type": "code",
   "execution_count": 10,
   "id": "e62cc19e",
   "metadata": {},
   "outputs": [
    {
     "data": {
      "text/plain": [
       "2022    263\n",
       "2021    181\n",
       "2020     56\n",
       "Name: work_year, dtype: int64"
      ]
     },
     "execution_count": 10,
     "metadata": {},
     "output_type": "execute_result"
    }
   ],
   "source": [
    "salaries.work_year.value_counts()"
   ]
  },
  {
   "cell_type": "code",
   "execution_count": 11,
   "id": "cafccbef",
   "metadata": {},
   "outputs": [
    {
     "data": {
      "text/plain": [
       "SE    243\n",
       "MI    172\n",
       "EN     65\n",
       "EX     20\n",
       "Name: experience_level, dtype: int64"
      ]
     },
     "execution_count": 11,
     "metadata": {},
     "output_type": "execute_result"
    }
   ],
   "source": [
    "salaries.experience_level.value_counts()"
   ]
  },
  {
   "cell_type": "code",
   "execution_count": 12,
   "id": "5b0e4c64",
   "metadata": {},
   "outputs": [
    {
     "data": {
      "text/plain": [
       "FT    484\n",
       "PT      8\n",
       "CT      4\n",
       "FL      4\n",
       "Name: employment_type, dtype: int64"
      ]
     },
     "execution_count": 12,
     "metadata": {},
     "output_type": "execute_result"
    }
   ],
   "source": [
    "salaries.employment_type.value_counts()"
   ]
  },
  {
   "cell_type": "code",
   "execution_count": 13,
   "id": "3adc4e04",
   "metadata": {},
   "outputs": [
    {
     "data": {
      "text/plain": [
       "USD    329\n",
       "EUR     78\n",
       "GBP     38\n",
       "INR     23\n",
       "CAD     16\n",
       "JPY      3\n",
       "TRY      3\n",
       "AUD      2\n",
       "PLN      2\n",
       "MXN      1\n",
       "CHF      1\n",
       "CLP      1\n",
       "BRL      1\n",
       "HUF      1\n",
       "SGD      1\n",
       "Name: salary_currency, dtype: int64"
      ]
     },
     "execution_count": 13,
     "metadata": {},
     "output_type": "execute_result"
    }
   ],
   "source": [
    "salaries.salary_currency.value_counts()"
   ]
  },
  {
   "cell_type": "code",
   "execution_count": 14,
   "id": "985d0007",
   "metadata": {},
   "outputs": [
    {
     "data": {
      "text/plain": [
       "100    320\n",
       "0      102\n",
       "50      78\n",
       "Name: remote_ratio, dtype: int64"
      ]
     },
     "execution_count": 14,
     "metadata": {},
     "output_type": "execute_result"
    }
   ],
   "source": [
    "salaries.remote_ratio.value_counts()      "
   ]
  },
  {
   "cell_type": "code",
   "execution_count": 15,
   "id": "faff7674",
   "metadata": {},
   "outputs": [
    {
     "data": {
      "text/plain": [
       "US    296\n",
       "GB     41\n",
       "CA     25\n",
       "DE     23\n",
       "IN     19\n",
       "FR     12\n",
       "ES     12\n",
       "GR     10\n",
       "JP      4\n",
       "NL      4\n",
       "PT      4\n",
       "LU      3\n",
       "AE      3\n",
       "AT      3\n",
       "PL      3\n",
       "PK      3\n",
       "TR      3\n",
       "CH      2\n",
       "AU      2\n",
       "BR      2\n",
       "NG      2\n",
       "SI      2\n",
       "BE      2\n",
       "MT      1\n",
       "IR      1\n",
       "DZ      1\n",
       "HU      1\n",
       "CZ      1\n",
       "HN      1\n",
       "RO      1\n",
       "CL      1\n",
       "EE      1\n",
       "UA      1\n",
       "NZ      1\n",
       "DK      1\n",
       "CN      1\n",
       "KE      1\n",
       "VN      1\n",
       "MX      1\n",
       "IE      1\n",
       "AS      1\n",
       "MD      1\n",
       "SG      1\n",
       "Name: company_location, dtype: int64"
      ]
     },
     "execution_count": 15,
     "metadata": {},
     "output_type": "execute_result"
    }
   ],
   "source": [
    "salaries.company_location.value_counts()      "
   ]
  },
  {
   "cell_type": "code",
   "execution_count": 16,
   "id": "4cfded34",
   "metadata": {},
   "outputs": [
    {
     "data": {
      "text/plain": [
       "['SG',\n",
       " 'KE',\n",
       " 'CH',\n",
       " 'CL',\n",
       " 'JE',\n",
       " 'NZ',\n",
       " 'UA',\n",
       " 'BG',\n",
       " 'HK',\n",
       " 'EE',\n",
       " 'CZ',\n",
       " 'PR',\n",
       " 'MX',\n",
       " 'DZ',\n",
       " 'LU',\n",
       " 'IR',\n",
       " 'MD',\n",
       " 'RS',\n",
       " 'HU',\n",
       " 'MT',\n",
       " 'IE',\n",
       " 'HN',\n",
       " 'BO',\n",
       " 'MY',\n",
       " 'SI',\n",
       " 'IT',\n",
       " 'RU',\n",
       " 'AU',\n",
       " 'NG',\n",
       " 'BE',\n",
       " 'RO',\n",
       " 'AE',\n",
       " 'TR',\n",
       " 'AT',\n",
       " 'PL',\n",
       " 'VN',\n",
       " 'JP',\n",
       " 'NL',\n",
       " 'BR',\n",
       " 'PT',\n",
       " 'PK',\n",
       " 'GR',\n",
       " 'ES',\n",
       " 'FR',\n",
       " 'DE',\n",
       " 'CA',\n",
       " 'IN',\n",
       " 'GB',\n",
       " 'US']"
      ]
     },
     "execution_count": 16,
     "metadata": {},
     "output_type": "execute_result"
    }
   ],
   "source": [
    "lista_paises = list(reversed(salaries.employee_residence.value_counts().index))\n",
    "lista_paises"
   ]
  },
  {
   "cell_type": "code",
   "execution_count": 17,
   "id": "d010e985",
   "metadata": {
    "scrolled": true
   },
   "outputs": [
    {
     "data": {
      "text/plain": [
       "M    273\n",
       "L    165\n",
       "S     62\n",
       "Name: company_size, dtype: int64"
      ]
     },
     "execution_count": 17,
     "metadata": {},
     "output_type": "execute_result"
    }
   ],
   "source": [
    "salaries.company_size.value_counts()"
   ]
  },
  {
   "cell_type": "code",
   "execution_count": 18,
   "id": "8f2c351d",
   "metadata": {},
   "outputs": [],
   "source": [
    "salaries.drop_duplicates(keep=False,inplace=True)"
   ]
  },
  {
   "cell_type": "code",
   "execution_count": 19,
   "id": "cffbb7d7",
   "metadata": {},
   "outputs": [
    {
     "data": {
      "text/plain": [
       "Series([], dtype: int64)"
      ]
     },
     "execution_count": 19,
     "metadata": {},
     "output_type": "execute_result"
    }
   ],
   "source": [
    "nan_cols=salaries.isna().sum()\n",
    "\n",
    "nan_cols[nan_cols>0]"
   ]
  },
  {
   "cell_type": "markdown",
   "id": "60900407",
   "metadata": {},
   "source": [
    "+ Se quitan los duplicados\n",
    "+ No hay nulos"
   ]
  },
  {
   "cell_type": "code",
   "execution_count": 140,
   "id": "b5c52790",
   "metadata": {
    "scrolled": true
   },
   "outputs": [
    {
     "data": {
      "text/plain": [
       "(500, 11)"
      ]
     },
     "execution_count": 140,
     "metadata": {},
     "output_type": "execute_result"
    }
   ],
   "source": [
    "salaries.shape"
   ]
  },
  {
   "cell_type": "code",
   "execution_count": 144,
   "id": "efc5341b",
   "metadata": {},
   "outputs": [
    {
     "data": {
      "image/png": "[encoded data removed]",
      "text/plain": [
       "<Figure size 1080x720 with 2 Axes>"
      ]
     },
     "metadata": {},
     "output_type": "display_data"
    }
   ],
   "source": [
    "plt.figure(figsize=(15, 10))\n",
    "\n",
    "sns.set(style='white')\n",
    "\n",
    "mask=np.triu(np.ones_like(salaries.corr(), dtype=bool))\n",
    "\n",
    "cmap=sns.diverging_palette(0, 10, as_cmap=True)\n",
    "\n",
    "\n",
    "sns.heatmap(salaries.corr(),\n",
    "           mask=mask,\n",
    "          cmap=cmap,\n",
    "          center=0,\n",
    "          square=True,\n",
    "          linewidths=0.5,\n",
    "          cbar_kws={'shrink': 0.5});"
   ]
  },
  {
   "cell_type": "raw",
   "id": "239e79c8",
   "metadata": {},
   "source": [
    "salaries.to_csv(path_or_buf='data/model_data/salaries.csv', sep=',')"
   ]
  },
  {
   "cell_type": "markdown",
   "id": "5c836c3b",
   "metadata": {},
   "source": [
    "------------------------------------------\n"
   ]
  },
  {
   "cell_type": "code",
   "execution_count": null,
   "id": "81123391",
   "metadata": {},
   "outputs": [],
   "source": []
  },
  {
   "cell_type": "markdown",
   "id": "e7b8c7e8",
   "metadata": {},
   "source": [
    "### Test Data"
   ]
  },
  {
   "cell_type": "code",
   "execution_count": 48,
   "id": "9cfafb34",
   "metadata": {
    "scrolled": true
   },
   "outputs": [
    {
     "data": {
      "text/html": [
       "<div>\n",
       "<style scoped>\n",
       "    .dataframe tbody tr th:only-of-type {\n",
       "        vertical-align: middle;\n",
       "    }\n",
       "\n",
       "    .dataframe tbody tr th {\n",
       "        vertical-align: top;\n",
       "    }\n",
       "\n",
       "    .dataframe thead th {\n",
       "        text-align: right;\n",
       "    }\n",
       "</style>\n",
       "<table border=\"1\" class=\"dataframe\">\n",
       "  <thead>\n",
       "    <tr style=\"text-align: right;\">\n",
       "      <th></th>\n",
       "      <th>work_year</th>\n",
       "      <th>experience_level</th>\n",
       "      <th>employment_type</th>\n",
       "      <th>job_title</th>\n",
       "      <th>salary</th>\n",
       "      <th>salary_currency</th>\n",
       "      <th>employee_residence</th>\n",
       "      <th>remote_ratio</th>\n",
       "      <th>company_location</th>\n",
       "      <th>company_size</th>\n",
       "    </tr>\n",
       "  </thead>\n",
       "  <tbody>\n",
       "    <tr>\n",
       "      <th>0</th>\n",
       "      <td>2020</td>\n",
       "      <td>SE</td>\n",
       "      <td>FT</td>\n",
       "      <td>Machine Learning Scientist</td>\n",
       "      <td>260000</td>\n",
       "      <td>USD</td>\n",
       "      <td>JP</td>\n",
       "      <td>0</td>\n",
       "      <td>JP</td>\n",
       "      <td>S</td>\n",
       "    </tr>\n",
       "    <tr>\n",
       "      <th>1</th>\n",
       "      <td>2020</td>\n",
       "      <td>MI</td>\n",
       "      <td>FT</td>\n",
       "      <td>Lead Data Analyst</td>\n",
       "      <td>87000</td>\n",
       "      <td>USD</td>\n",
       "      <td>US</td>\n",
       "      <td>100</td>\n",
       "      <td>US</td>\n",
       "      <td>L</td>\n",
       "    </tr>\n",
       "    <tr>\n",
       "      <th>2</th>\n",
       "      <td>2020</td>\n",
       "      <td>MI</td>\n",
       "      <td>FT</td>\n",
       "      <td>Data Analyst</td>\n",
       "      <td>85000</td>\n",
       "      <td>USD</td>\n",
       "      <td>US</td>\n",
       "      <td>100</td>\n",
       "      <td>US</td>\n",
       "      <td>L</td>\n",
       "    </tr>\n",
       "    <tr>\n",
       "      <th>3</th>\n",
       "      <td>2020</td>\n",
       "      <td>MI</td>\n",
       "      <td>FT</td>\n",
       "      <td>Machine Learning Engineer</td>\n",
       "      <td>299000</td>\n",
       "      <td>CNY</td>\n",
       "      <td>CN</td>\n",
       "      <td>0</td>\n",
       "      <td>CN</td>\n",
       "      <td>M</td>\n",
       "    </tr>\n",
       "    <tr>\n",
       "      <th>4</th>\n",
       "      <td>2020</td>\n",
       "      <td>MI</td>\n",
       "      <td>FT</td>\n",
       "      <td>Product Data Analyst</td>\n",
       "      <td>450000</td>\n",
       "      <td>INR</td>\n",
       "      <td>IN</td>\n",
       "      <td>100</td>\n",
       "      <td>IN</td>\n",
       "      <td>L</td>\n",
       "    </tr>\n",
       "  </tbody>\n",
       "</table>\n",
       "</div>"
      ],
      "text/plain": [
       "   work_year experience_level employment_type                   job_title  \\\n",
       "0       2020               SE              FT  Machine Learning Scientist   \n",
       "1       2020               MI              FT           Lead Data Analyst   \n",
       "2       2020               MI              FT                Data Analyst   \n",
       "3       2020               MI              FT   Machine Learning Engineer   \n",
       "4       2020               MI              FT        Product Data Analyst   \n",
       "\n",
       "   salary salary_currency employee_residence  remote_ratio company_location  \\\n",
       "0  260000             USD                 JP             0               JP   \n",
       "1   87000             USD                 US           100               US   \n",
       "2   85000             USD                 US           100               US   \n",
       "3  299000             CNY                 CN             0               CN   \n",
       "4  450000             INR                 IN           100               IN   \n",
       "\n",
       "  company_size  \n",
       "0            S  \n",
       "1            L  \n",
       "2            L  \n",
       "3            M  \n",
       "4            L  "
      ]
     },
     "execution_count": 48,
     "metadata": {},
     "output_type": "execute_result"
    }
   ],
   "source": [
    "test.head()"
   ]
  },
  {
   "cell_type": "code",
   "execution_count": 22,
   "id": "9fa65717",
   "metadata": {},
   "outputs": [
    {
     "data": {
      "text/plain": [
       "(107, 10)"
      ]
     },
     "execution_count": 22,
     "metadata": {},
     "output_type": "execute_result"
    }
   ],
   "source": [
    "test.shape"
   ]
  },
  {
   "cell_type": "code",
   "execution_count": 23,
   "id": "fd22f343",
   "metadata": {
    "scrolled": true
   },
   "outputs": [
    {
     "name": "stdout",
     "output_type": "stream",
     "text": [
      "<class 'pandas.core.frame.DataFrame'>\n",
      "RangeIndex: 107 entries, 0 to 106\n",
      "Data columns (total 10 columns):\n",
      " #   Column              Non-Null Count  Dtype \n",
      "---  ------              --------------  ----- \n",
      " 0   work_year           107 non-null    int64 \n",
      " 1   experience_level    107 non-null    object\n",
      " 2   employment_type     107 non-null    object\n",
      " 3   job_title           107 non-null    object\n",
      " 4   salary              107 non-null    int64 \n",
      " 5   salary_currency     107 non-null    object\n",
      " 6   employee_residence  107 non-null    object\n",
      " 7   remote_ratio        107 non-null    int64 \n",
      " 8   company_location    107 non-null    object\n",
      " 9   company_size        107 non-null    object\n",
      "dtypes: int64(3), object(7)\n",
      "memory usage: 8.5+ KB\n"
     ]
    }
   ],
   "source": [
    "test.info()"
   ]
  },
  {
   "cell_type": "code",
   "execution_count": 24,
   "id": "9ce59d94",
   "metadata": {},
   "outputs": [
    {
     "data": {
      "text/plain": [
       "Series([], dtype: int64)"
      ]
     },
     "execution_count": 24,
     "metadata": {},
     "output_type": "execute_result"
    }
   ],
   "source": [
    "nan_cols=test.isna().sum()\n",
    "\n",
    "nan_cols[nan_cols>0]"
   ]
  },
  {
   "cell_type": "code",
   "execution_count": 25,
   "id": "d7a2c3de",
   "metadata": {
    "scrolled": true
   },
   "outputs": [
    {
     "data": {
      "text/plain": [
       "2022    55\n",
       "2021    36\n",
       "2020    16\n",
       "Name: work_year, dtype: int64"
      ]
     },
     "execution_count": 25,
     "metadata": {},
     "output_type": "execute_result"
    }
   ],
   "source": [
    "test.work_year.value_counts()"
   ]
  },
  {
   "cell_type": "code",
   "execution_count": 26,
   "id": "f89ae9e9",
   "metadata": {
    "scrolled": false
   },
   "outputs": [
    {
     "data": {
      "text/plain": [
       "MI    41\n",
       "SE    37\n",
       "EN    23\n",
       "EX     6\n",
       "Name: experience_level, dtype: int64"
      ]
     },
     "execution_count": 26,
     "metadata": {},
     "output_type": "execute_result"
    }
   ],
   "source": [
    "test.experience_level.value_counts()"
   ]
  },
  {
   "cell_type": "code",
   "execution_count": 27,
   "id": "598cae75",
   "metadata": {},
   "outputs": [],
   "source": [
    "test.drop('salary_currency', inplace=True,axis=1)"
   ]
  },
  {
   "cell_type": "code",
   "execution_count": 28,
   "id": "57ab5ddc",
   "metadata": {},
   "outputs": [],
   "source": [
    "test.drop('salary', inplace=True,axis=1)"
   ]
  },
  {
   "cell_type": "code",
   "execution_count": 29,
   "id": "4b6f7608",
   "metadata": {},
   "outputs": [
    {
     "data": {
      "text/plain": [
       "FT    104\n",
       "PT      2\n",
       "CT      1\n",
       "Name: employment_type, dtype: int64"
      ]
     },
     "execution_count": 29,
     "metadata": {},
     "output_type": "execute_result"
    }
   ],
   "source": [
    "test.employment_type.value_counts()"
   ]
  },
  {
   "cell_type": "code",
   "execution_count": 30,
   "id": "f50fe108",
   "metadata": {},
   "outputs": [
    {
     "data": {
      "text/plain": [
       "Data Scientist                              22\n",
       "Data Engineer                               21\n",
       "Data Analyst                                16\n",
       "Machine Learning Engineer                   10\n",
       "Research Scientist                           4\n",
       "Data Architect                               3\n",
       "Principal Data Engineer                      3\n",
       "Computer Vision Software Engineer            2\n",
       "Head of Data Science                         2\n",
       "Computer Vision Engineer                     2\n",
       "Data Science Consultant                      2\n",
       "Data Analytics Engineer                      2\n",
       "AI Scientist                                 2\n",
       "Applied Machine Learning Scientist           1\n",
       "Financial Data Analyst                       1\n",
       "Business Data Analyst                        1\n",
       "NLP Engineer                                 1\n",
       "Principal Data Analyst                       1\n",
       "Data Science Engineer                        1\n",
       "Machine Learning Scientist                   1\n",
       "Machine Learning Developer                   1\n",
       "Big Data Engineer                            1\n",
       "Machine Learning Infrastructure Engineer     1\n",
       "Head of Data                                 1\n",
       "Principal Data Scientist                     1\n",
       "Lead Data Analyst                            1\n",
       "BI Data Analyst                              1\n",
       "Product Data Analyst                         1\n",
       "Analytics Engineer                           1\n",
       "Name: job_title, dtype: int64"
      ]
     },
     "execution_count": 30,
     "metadata": {},
     "output_type": "execute_result"
    }
   ],
   "source": [
    "test.job_title.value_counts()"
   ]
  },
  {
   "cell_type": "code",
   "execution_count": 31,
   "id": "efa78c10",
   "metadata": {},
   "outputs": [
    {
     "data": {
      "text/plain": [
       "100    61\n",
       "0      25\n",
       "50     21\n",
       "Name: remote_ratio, dtype: int64"
      ]
     },
     "execution_count": 31,
     "metadata": {},
     "output_type": "execute_result"
    }
   ],
   "source": [
    "test.remote_ratio.value_counts()"
   ]
  },
  {
   "cell_type": "code",
   "execution_count": 32,
   "id": "5d329010",
   "metadata": {},
   "outputs": [
    {
     "data": {
      "text/plain": [
       "US    59\n",
       "GB     6\n",
       "IN     5\n",
       "DE     5\n",
       "CA     5\n",
       "FR     3\n",
       "JP     2\n",
       "ES     2\n",
       "MX     2\n",
       "DK     2\n",
       "IT     2\n",
       "RU     2\n",
       "CZ     1\n",
       "PL     1\n",
       "BR     1\n",
       "MY     1\n",
       "GR     1\n",
       "IQ     1\n",
       "AT     1\n",
       "CO     1\n",
       "IL     1\n",
       "HR     1\n",
       "CN     1\n",
       "AU     1\n",
       "Name: company_location, dtype: int64"
      ]
     },
     "execution_count": 32,
     "metadata": {},
     "output_type": "execute_result"
    }
   ],
   "source": [
    "test.company_location.value_counts()"
   ]
  },
  {
   "cell_type": "code",
   "execution_count": 33,
   "id": "9e8f2685",
   "metadata": {},
   "outputs": [
    {
     "data": {
      "text/plain": [
       "M    53\n",
       "L    33\n",
       "S    21\n",
       "Name: company_size, dtype: int64"
      ]
     },
     "execution_count": 33,
     "metadata": {},
     "output_type": "execute_result"
    }
   ],
   "source": [
    "test.company_size.value_counts()"
   ]
  },
  {
   "cell_type": "code",
   "execution_count": 34,
   "id": "f33420d8",
   "metadata": {},
   "outputs": [
    {
     "data": {
      "text/plain": [
       "US    54\n",
       "GB     6\n",
       "DE     6\n",
       "CA     5\n",
       "IN     5\n",
       "FR     4\n",
       "JP     3\n",
       "RU     2\n",
       "IT     2\n",
       "ES     2\n",
       "DK     2\n",
       "GR     2\n",
       "NL     1\n",
       "AR     1\n",
       "TN     1\n",
       "PL     1\n",
       "BR     1\n",
       "CO     1\n",
       "HU     1\n",
       "SG     1\n",
       "IQ     1\n",
       "HR     1\n",
       "PH     1\n",
       "MX     1\n",
       "CN     1\n",
       "AU     1\n",
       "Name: employee_residence, dtype: int64"
      ]
     },
     "execution_count": 34,
     "metadata": {},
     "output_type": "execute_result"
    }
   ],
   "source": [
    "test.employee_residence.value_counts()"
   ]
  },
  {
   "cell_type": "code",
   "execution_count": null,
   "id": "1355087b",
   "metadata": {},
   "outputs": [],
   "source": []
  },
  {
   "cell_type": "markdown",
   "id": "ece36675",
   "metadata": {},
   "source": [
    "### Diccionarios para data_transformation"
   ]
  },
  {
   "cell_type": "code",
   "execution_count": 35,
   "id": "8479a061",
   "metadata": {},
   "outputs": [],
   "source": [
    "def crear_dictios(columna_comparacion):\n",
    "    lista = list(set(list(salaries[columna_comparacion].unique()) + list(test[columna_comparacion].unique())))\n",
    "    num_list =[i for i in range(len(lista))]\n",
    "    return {(lista[i]): (num_list[i]) for i in range(len(lista))}\n",
    "    "
   ]
  },
  {
   "cell_type": "code",
   "execution_count": 49,
   "id": "4b05a10e",
   "metadata": {},
   "outputs": [],
   "source": [
    "dictio_job_title = crear_dictios('job_title')\n",
    "dictio_employment_type = crear_dictios('employment_type') #OK\n",
    "dictio_employee_residence = crear_dictios('employee_residence')\n",
    "dictio_experience_level = crear_dictios('experience_level') \n",
    "dictio_company_size = crear_dictios('company_size') #OK"
   ]
  },
  {
   "cell_type": "markdown",
   "id": "6a98629c",
   "metadata": {},
   "source": [
    "------------------------------"
   ]
  },
  {
   "cell_type": "markdown",
   "id": "209c458f",
   "metadata": {},
   "source": [
    "## Modelo:\n",
    "- Eliminar columnas 'remote_ratio', 'salary', 'company_location', 'salary_currency', 'work_year'"
   ]
  },
  {
   "cell_type": "code",
   "execution_count": 50,
   "id": "2e4235da",
   "metadata": {},
   "outputs": [
    {
     "data": {
      "text/html": [
       "<div>\n",
       "<style scoped>\n",
       "    .dataframe tbody tr th:only-of-type {\n",
       "        vertical-align: middle;\n",
       "    }\n",
       "\n",
       "    .dataframe tbody tr th {\n",
       "        vertical-align: top;\n",
       "    }\n",
       "\n",
       "    .dataframe thead th {\n",
       "        text-align: right;\n",
       "    }\n",
       "</style>\n",
       "<table border=\"1\" class=\"dataframe\">\n",
       "  <thead>\n",
       "    <tr style=\"text-align: right;\">\n",
       "      <th></th>\n",
       "      <th>work_year</th>\n",
       "      <th>experience_level</th>\n",
       "      <th>employment_type</th>\n",
       "      <th>job_title</th>\n",
       "      <th>salary</th>\n",
       "      <th>salary_currency</th>\n",
       "      <th>salary_in_usd</th>\n",
       "      <th>employee_residence</th>\n",
       "      <th>remote_ratio</th>\n",
       "      <th>company_location</th>\n",
       "      <th>company_size</th>\n",
       "    </tr>\n",
       "  </thead>\n",
       "  <tbody>\n",
       "    <tr>\n",
       "      <th>0</th>\n",
       "      <td>2022</td>\n",
       "      <td>SE</td>\n",
       "      <td>FT</td>\n",
       "      <td>Data Engineer</td>\n",
       "      <td>140250</td>\n",
       "      <td>USD</td>\n",
       "      <td>140250</td>\n",
       "      <td>US</td>\n",
       "      <td>100</td>\n",
       "      <td>US</td>\n",
       "      <td>M</td>\n",
       "    </tr>\n",
       "    <tr>\n",
       "      <th>1</th>\n",
       "      <td>2022</td>\n",
       "      <td>SE</td>\n",
       "      <td>FT</td>\n",
       "      <td>Data Engineer</td>\n",
       "      <td>135000</td>\n",
       "      <td>USD</td>\n",
       "      <td>135000</td>\n",
       "      <td>US</td>\n",
       "      <td>100</td>\n",
       "      <td>US</td>\n",
       "      <td>M</td>\n",
       "    </tr>\n",
       "    <tr>\n",
       "      <th>2</th>\n",
       "      <td>2021</td>\n",
       "      <td>MI</td>\n",
       "      <td>FT</td>\n",
       "      <td>BI Data Analyst</td>\n",
       "      <td>100000</td>\n",
       "      <td>USD</td>\n",
       "      <td>100000</td>\n",
       "      <td>US</td>\n",
       "      <td>100</td>\n",
       "      <td>US</td>\n",
       "      <td>M</td>\n",
       "    </tr>\n",
       "    <tr>\n",
       "      <th>3</th>\n",
       "      <td>2021</td>\n",
       "      <td>MI</td>\n",
       "      <td>CT</td>\n",
       "      <td>ML Engineer</td>\n",
       "      <td>270000</td>\n",
       "      <td>USD</td>\n",
       "      <td>270000</td>\n",
       "      <td>US</td>\n",
       "      <td>100</td>\n",
       "      <td>US</td>\n",
       "      <td>L</td>\n",
       "    </tr>\n",
       "    <tr>\n",
       "      <th>4</th>\n",
       "      <td>2021</td>\n",
       "      <td>MI</td>\n",
       "      <td>FT</td>\n",
       "      <td>Data Engineer</td>\n",
       "      <td>22000</td>\n",
       "      <td>EUR</td>\n",
       "      <td>26005</td>\n",
       "      <td>RO</td>\n",
       "      <td>0</td>\n",
       "      <td>US</td>\n",
       "      <td>L</td>\n",
       "    </tr>\n",
       "  </tbody>\n",
       "</table>\n",
       "</div>"
      ],
      "text/plain": [
       "   work_year experience_level employment_type        job_title  salary  \\\n",
       "0       2022               SE              FT    Data Engineer  140250   \n",
       "1       2022               SE              FT    Data Engineer  135000   \n",
       "2       2021               MI              FT  BI Data Analyst  100000   \n",
       "3       2021               MI              CT      ML Engineer  270000   \n",
       "4       2021               MI              FT    Data Engineer   22000   \n",
       "\n",
       "  salary_currency  salary_in_usd employee_residence  remote_ratio  \\\n",
       "0             USD         140250                 US           100   \n",
       "1             USD         135000                 US           100   \n",
       "2             USD         100000                 US           100   \n",
       "3             USD         270000                 US           100   \n",
       "4             EUR          26005                 RO             0   \n",
       "\n",
       "  company_location company_size  \n",
       "0               US            M  \n",
       "1               US            M  \n",
       "2               US            M  \n",
       "3               US            L  \n",
       "4               US            L  "
      ]
     },
     "execution_count": 50,
     "metadata": {},
     "output_type": "execute_result"
    }
   ],
   "source": [
    "salaries.head()"
   ]
  },
  {
   "cell_type": "code",
   "execution_count": 98,
   "id": "c54e6e99",
   "metadata": {},
   "outputs": [],
   "source": [
    "test_5_cols= salaries.copy(deep=True)"
   ]
  },
  {
   "cell_type": "code",
   "execution_count": 99,
   "id": "30ff7e3a",
   "metadata": {
    "scrolled": true
   },
   "outputs": [],
   "source": [
    "test_5_cols.drop(['work_year','salary', 'salary_currency','remote_ratio','company_location',], inplace=True,axis=1)"
   ]
  },
  {
   "cell_type": "code",
   "execution_count": 100,
   "id": "d0ae13e8",
   "metadata": {},
   "outputs": [
    {
     "data": {
      "text/html": [
       "<div>\n",
       "<style scoped>\n",
       "    .dataframe tbody tr th:only-of-type {\n",
       "        vertical-align: middle;\n",
       "    }\n",
       "\n",
       "    .dataframe tbody tr th {\n",
       "        vertical-align: top;\n",
       "    }\n",
       "\n",
       "    .dataframe thead th {\n",
       "        text-align: right;\n",
       "    }\n",
       "</style>\n",
       "<table border=\"1\" class=\"dataframe\">\n",
       "  <thead>\n",
       "    <tr style=\"text-align: right;\">\n",
       "      <th></th>\n",
       "      <th>experience_level</th>\n",
       "      <th>employment_type</th>\n",
       "      <th>job_title</th>\n",
       "      <th>salary_in_usd</th>\n",
       "      <th>employee_residence</th>\n",
       "      <th>company_size</th>\n",
       "    </tr>\n",
       "  </thead>\n",
       "  <tbody>\n",
       "    <tr>\n",
       "      <th>0</th>\n",
       "      <td>SE</td>\n",
       "      <td>FT</td>\n",
       "      <td>Data Engineer</td>\n",
       "      <td>140250</td>\n",
       "      <td>US</td>\n",
       "      <td>M</td>\n",
       "    </tr>\n",
       "    <tr>\n",
       "      <th>1</th>\n",
       "      <td>SE</td>\n",
       "      <td>FT</td>\n",
       "      <td>Data Engineer</td>\n",
       "      <td>135000</td>\n",
       "      <td>US</td>\n",
       "      <td>M</td>\n",
       "    </tr>\n",
       "    <tr>\n",
       "      <th>2</th>\n",
       "      <td>MI</td>\n",
       "      <td>FT</td>\n",
       "      <td>BI Data Analyst</td>\n",
       "      <td>100000</td>\n",
       "      <td>US</td>\n",
       "      <td>M</td>\n",
       "    </tr>\n",
       "    <tr>\n",
       "      <th>3</th>\n",
       "      <td>MI</td>\n",
       "      <td>CT</td>\n",
       "      <td>ML Engineer</td>\n",
       "      <td>270000</td>\n",
       "      <td>US</td>\n",
       "      <td>L</td>\n",
       "    </tr>\n",
       "    <tr>\n",
       "      <th>4</th>\n",
       "      <td>MI</td>\n",
       "      <td>FT</td>\n",
       "      <td>Data Engineer</td>\n",
       "      <td>26005</td>\n",
       "      <td>RO</td>\n",
       "      <td>L</td>\n",
       "    </tr>\n",
       "  </tbody>\n",
       "</table>\n",
       "</div>"
      ],
      "text/plain": [
       "  experience_level employment_type        job_title  salary_in_usd  \\\n",
       "0               SE              FT    Data Engineer         140250   \n",
       "1               SE              FT    Data Engineer         135000   \n",
       "2               MI              FT  BI Data Analyst         100000   \n",
       "3               MI              CT      ML Engineer         270000   \n",
       "4               MI              FT    Data Engineer          26005   \n",
       "\n",
       "  employee_residence company_size  \n",
       "0                 US            M  \n",
       "1                 US            M  \n",
       "2                 US            M  \n",
       "3                 US            L  \n",
       "4                 RO            L  "
      ]
     },
     "execution_count": 100,
     "metadata": {},
     "output_type": "execute_result"
    }
   ],
   "source": [
    "test_5_cols.head()"
   ]
  },
  {
   "cell_type": "code",
   "execution_count": 101,
   "id": "f290803e",
   "metadata": {},
   "outputs": [],
   "source": [
    "pred_5_cols = test.copy(deep=True)"
   ]
  },
  {
   "cell_type": "code",
   "execution_count": 102,
   "id": "886a4617",
   "metadata": {},
   "outputs": [],
   "source": [
    "pred_5_cols.drop(['work_year','salary', 'salary_currency','remote_ratio','company_location',], inplace=True,axis=1)"
   ]
  },
  {
   "cell_type": "code",
   "execution_count": 103,
   "id": "07952b89",
   "metadata": {},
   "outputs": [
    {
     "data": {
      "text/html": [
       "<div>\n",
       "<style scoped>\n",
       "    .dataframe tbody tr th:only-of-type {\n",
       "        vertical-align: middle;\n",
       "    }\n",
       "\n",
       "    .dataframe tbody tr th {\n",
       "        vertical-align: top;\n",
       "    }\n",
       "\n",
       "    .dataframe thead th {\n",
       "        text-align: right;\n",
       "    }\n",
       "</style>\n",
       "<table border=\"1\" class=\"dataframe\">\n",
       "  <thead>\n",
       "    <tr style=\"text-align: right;\">\n",
       "      <th></th>\n",
       "      <th>experience_level</th>\n",
       "      <th>employment_type</th>\n",
       "      <th>job_title</th>\n",
       "      <th>employee_residence</th>\n",
       "      <th>company_size</th>\n",
       "    </tr>\n",
       "  </thead>\n",
       "  <tbody>\n",
       "    <tr>\n",
       "      <th>0</th>\n",
       "      <td>SE</td>\n",
       "      <td>FT</td>\n",
       "      <td>Machine Learning Scientist</td>\n",
       "      <td>JP</td>\n",
       "      <td>S</td>\n",
       "    </tr>\n",
       "    <tr>\n",
       "      <th>1</th>\n",
       "      <td>MI</td>\n",
       "      <td>FT</td>\n",
       "      <td>Lead Data Analyst</td>\n",
       "      <td>US</td>\n",
       "      <td>L</td>\n",
       "    </tr>\n",
       "    <tr>\n",
       "      <th>2</th>\n",
       "      <td>MI</td>\n",
       "      <td>FT</td>\n",
       "      <td>Data Analyst</td>\n",
       "      <td>US</td>\n",
       "      <td>L</td>\n",
       "    </tr>\n",
       "    <tr>\n",
       "      <th>3</th>\n",
       "      <td>MI</td>\n",
       "      <td>FT</td>\n",
       "      <td>Machine Learning Engineer</td>\n",
       "      <td>CN</td>\n",
       "      <td>M</td>\n",
       "    </tr>\n",
       "    <tr>\n",
       "      <th>4</th>\n",
       "      <td>MI</td>\n",
       "      <td>FT</td>\n",
       "      <td>Product Data Analyst</td>\n",
       "      <td>IN</td>\n",
       "      <td>L</td>\n",
       "    </tr>\n",
       "  </tbody>\n",
       "</table>\n",
       "</div>"
      ],
      "text/plain": [
       "  experience_level employment_type                   job_title  \\\n",
       "0               SE              FT  Machine Learning Scientist   \n",
       "1               MI              FT           Lead Data Analyst   \n",
       "2               MI              FT                Data Analyst   \n",
       "3               MI              FT   Machine Learning Engineer   \n",
       "4               MI              FT        Product Data Analyst   \n",
       "\n",
       "  employee_residence company_size  \n",
       "0                 JP            S  \n",
       "1                 US            L  \n",
       "2                 US            L  \n",
       "3                 CN            M  \n",
       "4                 IN            L  "
      ]
     },
     "execution_count": 103,
     "metadata": {},
     "output_type": "execute_result"
    }
   ],
   "source": [
    "pred_5_cols.head()"
   ]
  },
  {
   "cell_type": "code",
   "execution_count": 104,
   "id": "30ff52c0",
   "metadata": {},
   "outputs": [],
   "source": [
    "pred_5_cols['y'] = -1  #Añadimos y=-1 a la de test"
   ]
  },
  {
   "cell_type": "code",
   "execution_count": 105,
   "id": "f3824462",
   "metadata": {},
   "outputs": [
    {
     "data": {
      "text/plain": [
       "(107, 6)"
      ]
     },
     "execution_count": 105,
     "metadata": {},
     "output_type": "execute_result"
    }
   ],
   "source": [
    "pred_5_cols.shape"
   ]
  },
  {
   "cell_type": "code",
   "execution_count": 106,
   "id": "00c9819e",
   "metadata": {},
   "outputs": [],
   "source": [
    "todo_5_cols = pd.concat([pred_5_cols, test_5_cols])"
   ]
  },
  {
   "cell_type": "code",
   "execution_count": 107,
   "id": "737560c3",
   "metadata": {},
   "outputs": [
    {
     "data": {
      "text/html": [
       "<div>\n",
       "<style scoped>\n",
       "    .dataframe tbody tr th:only-of-type {\n",
       "        vertical-align: middle;\n",
       "    }\n",
       "\n",
       "    .dataframe tbody tr th {\n",
       "        vertical-align: top;\n",
       "    }\n",
       "\n",
       "    .dataframe thead th {\n",
       "        text-align: right;\n",
       "    }\n",
       "</style>\n",
       "<table border=\"1\" class=\"dataframe\">\n",
       "  <thead>\n",
       "    <tr style=\"text-align: right;\">\n",
       "      <th></th>\n",
       "      <th>experience_level</th>\n",
       "      <th>employment_type</th>\n",
       "      <th>job_title</th>\n",
       "      <th>employee_residence</th>\n",
       "      <th>company_size</th>\n",
       "      <th>y</th>\n",
       "      <th>salary_in_usd</th>\n",
       "    </tr>\n",
       "  </thead>\n",
       "  <tbody>\n",
       "    <tr>\n",
       "      <th>0</th>\n",
       "      <td>SE</td>\n",
       "      <td>FT</td>\n",
       "      <td>Machine Learning Scientist</td>\n",
       "      <td>JP</td>\n",
       "      <td>S</td>\n",
       "      <td>-1.0</td>\n",
       "      <td>NaN</td>\n",
       "    </tr>\n",
       "    <tr>\n",
       "      <th>1</th>\n",
       "      <td>MI</td>\n",
       "      <td>FT</td>\n",
       "      <td>Lead Data Analyst</td>\n",
       "      <td>US</td>\n",
       "      <td>L</td>\n",
       "      <td>-1.0</td>\n",
       "      <td>NaN</td>\n",
       "    </tr>\n",
       "    <tr>\n",
       "      <th>2</th>\n",
       "      <td>MI</td>\n",
       "      <td>FT</td>\n",
       "      <td>Data Analyst</td>\n",
       "      <td>US</td>\n",
       "      <td>L</td>\n",
       "      <td>-1.0</td>\n",
       "      <td>NaN</td>\n",
       "    </tr>\n",
       "    <tr>\n",
       "      <th>3</th>\n",
       "      <td>MI</td>\n",
       "      <td>FT</td>\n",
       "      <td>Machine Learning Engineer</td>\n",
       "      <td>CN</td>\n",
       "      <td>M</td>\n",
       "      <td>-1.0</td>\n",
       "      <td>NaN</td>\n",
       "    </tr>\n",
       "    <tr>\n",
       "      <th>4</th>\n",
       "      <td>MI</td>\n",
       "      <td>FT</td>\n",
       "      <td>Product Data Analyst</td>\n",
       "      <td>IN</td>\n",
       "      <td>L</td>\n",
       "      <td>-1.0</td>\n",
       "      <td>NaN</td>\n",
       "    </tr>\n",
       "  </tbody>\n",
       "</table>\n",
       "</div>"
      ],
      "text/plain": [
       "  experience_level employment_type                   job_title  \\\n",
       "0               SE              FT  Machine Learning Scientist   \n",
       "1               MI              FT           Lead Data Analyst   \n",
       "2               MI              FT                Data Analyst   \n",
       "3               MI              FT   Machine Learning Engineer   \n",
       "4               MI              FT        Product Data Analyst   \n",
       "\n",
       "  employee_residence company_size    y  salary_in_usd  \n",
       "0                 JP            S -1.0            NaN  \n",
       "1                 US            L -1.0            NaN  \n",
       "2                 US            L -1.0            NaN  \n",
       "3                 CN            M -1.0            NaN  \n",
       "4                 IN            L -1.0            NaN  "
      ]
     },
     "execution_count": 107,
     "metadata": {},
     "output_type": "execute_result"
    }
   ],
   "source": [
    "todo_5_cols.head()"
   ]
  },
  {
   "cell_type": "code",
   "execution_count": 108,
   "id": "1510b4b5",
   "metadata": {
    "scrolled": true
   },
   "outputs": [
    {
     "data": {
      "text/plain": [
       "(607, 7)"
      ]
     },
     "execution_count": 108,
     "metadata": {},
     "output_type": "execute_result"
    }
   ],
   "source": [
    "todo_5_cols.shape"
   ]
  },
  {
   "cell_type": "code",
   "execution_count": 109,
   "id": "15b5115f",
   "metadata": {},
   "outputs": [],
   "source": [
    "todo_5_cols.to_excel('powerbi.xlsx', engine='openpyxl')"
   ]
  },
  {
   "cell_type": "code",
   "execution_count": 111,
   "id": "51949890",
   "metadata": {},
   "outputs": [],
   "source": [
    "todo_5_cols.job_title=todo_5_cols.job_title.apply(lambda x: dictio_job_title[x])\n",
    "todo_5_cols.employment_type=todo_5_cols.employment_type.apply(lambda x: dictio_employment_type[x])\n",
    "todo_5_cols.employee_residence=todo_5_cols.employee_residence.apply(lambda x: dictio_employee_residence[x])\n",
    "todo_5_cols.experience_level=todo_5_cols.experience_level.apply(lambda x: dictio_experience_level[x])\n",
    "todo_5_cols.company_size=todo_5_cols.company_size.apply(lambda x: dictio_company_size[x])"
   ]
  },
  {
   "cell_type": "code",
   "execution_count": 112,
   "id": "0e77316b",
   "metadata": {},
   "outputs": [
    {
     "data": {
      "text/html": [
       "<div>\n",
       "<style scoped>\n",
       "    .dataframe tbody tr th:only-of-type {\n",
       "        vertical-align: middle;\n",
       "    }\n",
       "\n",
       "    .dataframe tbody tr th {\n",
       "        vertical-align: top;\n",
       "    }\n",
       "\n",
       "    .dataframe thead th {\n",
       "        text-align: right;\n",
       "    }\n",
       "</style>\n",
       "<table border=\"1\" class=\"dataframe\">\n",
       "  <thead>\n",
       "    <tr style=\"text-align: right;\">\n",
       "      <th></th>\n",
       "      <th>experience_level</th>\n",
       "      <th>employment_type</th>\n",
       "      <th>job_title</th>\n",
       "      <th>employee_residence</th>\n",
       "      <th>company_size</th>\n",
       "      <th>y</th>\n",
       "      <th>salary_in_usd</th>\n",
       "    </tr>\n",
       "  </thead>\n",
       "  <tbody>\n",
       "    <tr>\n",
       "      <th>0</th>\n",
       "      <td>2</td>\n",
       "      <td>2</td>\n",
       "      <td>15</td>\n",
       "      <td>5</td>\n",
       "      <td>1</td>\n",
       "      <td>-1.0</td>\n",
       "      <td>NaN</td>\n",
       "    </tr>\n",
       "    <tr>\n",
       "      <th>1</th>\n",
       "      <td>0</td>\n",
       "      <td>2</td>\n",
       "      <td>42</td>\n",
       "      <td>25</td>\n",
       "      <td>2</td>\n",
       "      <td>-1.0</td>\n",
       "      <td>NaN</td>\n",
       "    </tr>\n",
       "    <tr>\n",
       "      <th>2</th>\n",
       "      <td>0</td>\n",
       "      <td>2</td>\n",
       "      <td>35</td>\n",
       "      <td>25</td>\n",
       "      <td>2</td>\n",
       "      <td>-1.0</td>\n",
       "      <td>NaN</td>\n",
       "    </tr>\n",
       "    <tr>\n",
       "      <th>3</th>\n",
       "      <td>0</td>\n",
       "      <td>2</td>\n",
       "      <td>33</td>\n",
       "      <td>15</td>\n",
       "      <td>0</td>\n",
       "      <td>-1.0</td>\n",
       "      <td>NaN</td>\n",
       "    </tr>\n",
       "    <tr>\n",
       "      <th>4</th>\n",
       "      <td>0</td>\n",
       "      <td>2</td>\n",
       "      <td>20</td>\n",
       "      <td>3</td>\n",
       "      <td>2</td>\n",
       "      <td>-1.0</td>\n",
       "      <td>NaN</td>\n",
       "    </tr>\n",
       "  </tbody>\n",
       "</table>\n",
       "</div>"
      ],
      "text/plain": [
       "   experience_level  employment_type  job_title  employee_residence  \\\n",
       "0                 2                2         15                   5   \n",
       "1                 0                2         42                  25   \n",
       "2                 0                2         35                  25   \n",
       "3                 0                2         33                  15   \n",
       "4                 0                2         20                   3   \n",
       "\n",
       "   company_size    y  salary_in_usd  \n",
       "0             1 -1.0            NaN  \n",
       "1             2 -1.0            NaN  \n",
       "2             2 -1.0            NaN  \n",
       "3             0 -1.0            NaN  \n",
       "4             2 -1.0            NaN  "
      ]
     },
     "execution_count": 112,
     "metadata": {},
     "output_type": "execute_result"
    }
   ],
   "source": [
    "todo_5_cols.head()"
   ]
  },
  {
   "cell_type": "code",
   "execution_count": 113,
   "id": "0c106e16",
   "metadata": {},
   "outputs": [],
   "source": [
    "datos_test_ok = todo_5_cols.loc[todo_5_cols['y'] == -1]"
   ]
  },
  {
   "cell_type": "code",
   "execution_count": 114,
   "id": "137d86aa",
   "metadata": {},
   "outputs": [
    {
     "data": {
      "text/plain": [
       "(107, 7)"
      ]
     },
     "execution_count": 114,
     "metadata": {},
     "output_type": "execute_result"
    }
   ],
   "source": [
    "datos_test_ok.shape"
   ]
  },
  {
   "cell_type": "code",
   "execution_count": 115,
   "id": "4074b5e0",
   "metadata": {},
   "outputs": [
    {
     "data": {
      "text/plain": [
       "Index(['experience_level', 'employment_type', 'job_title',\n",
       "       'employee_residence', 'company_size', 'y', 'salary_in_usd'],\n",
       "      dtype='object')"
      ]
     },
     "execution_count": 115,
     "metadata": {},
     "output_type": "execute_result"
    }
   ],
   "source": [
    "datos_test_ok.columns"
   ]
  },
  {
   "cell_type": "code",
   "execution_count": 116,
   "id": "0fe479e7",
   "metadata": {},
   "outputs": [],
   "source": [
    "datos_salaries_ok = todo_5_cols.loc[todo_5_cols['y'] != -1]"
   ]
  },
  {
   "cell_type": "code",
   "execution_count": 117,
   "id": "d367f572",
   "metadata": {},
   "outputs": [
    {
     "data": {
      "text/plain": [
       "(500, 7)"
      ]
     },
     "execution_count": 117,
     "metadata": {},
     "output_type": "execute_result"
    }
   ],
   "source": [
    "datos_salaries_ok.shape"
   ]
  },
  {
   "cell_type": "code",
   "execution_count": 118,
   "id": "a89628d3",
   "metadata": {},
   "outputs": [],
   "source": [
    "datos_salaries_ok.drop('y', axis=1, inplace=True)"
   ]
  },
  {
   "cell_type": "code",
   "execution_count": 119,
   "id": "28d3928b",
   "metadata": {},
   "outputs": [],
   "source": [
    "datos_test_ok.drop('salary_in_usd', axis=1, inplace=True)"
   ]
  },
  {
   "cell_type": "code",
   "execution_count": 120,
   "id": "b0263c0d",
   "metadata": {},
   "outputs": [],
   "source": [
    "datos_test_ok.drop('y', axis=1, inplace=True)"
   ]
  },
  {
   "cell_type": "markdown",
   "id": "dc6d0f1d",
   "metadata": {},
   "source": [
    "Definir X, y\n",
    "-----------------------------------------------\n",
    "-------------------------------------------------------"
   ]
  },
  {
   "cell_type": "code",
   "execution_count": 121,
   "id": "38bf7772",
   "metadata": {},
   "outputs": [],
   "source": [
    "y=datos_salaries_ok.salary_in_usd"
   ]
  },
  {
   "cell_type": "code",
   "execution_count": 122,
   "id": "f9c6269b",
   "metadata": {},
   "outputs": [],
   "source": [
    "X= datos_salaries_ok.drop('salary_in_usd',axis=1)"
   ]
  },
  {
   "cell_type": "markdown",
   "id": "692d33de",
   "metadata": {},
   "source": [
    "Entrenamiento modelo\n",
    "-------------------------------------------------------"
   ]
  },
  {
   "cell_type": "code",
   "execution_count": 123,
   "id": "99044c92",
   "metadata": {},
   "outputs": [
    {
     "data": {
      "text/plain": [
       "((400, 5), (100, 5), (400,), (100,))"
      ]
     },
     "execution_count": 123,
     "metadata": {},
     "output_type": "execute_result"
    }
   ],
   "source": [
    "from sklearn.model_selection import train_test_split as tts  # el alias es cosa mia\n",
    "\n",
    "\n",
    "X_train, X_test, y_train, y_test = tts(X, y, train_size=0.8, test_size=0.2, random_state=42)\n",
    "\n",
    "X_train.shape, X_test.shape, y_train.shape, y_test.shape"
   ]
  },
  {
   "cell_type": "code",
   "execution_count": 124,
   "id": "3c9c8f5e",
   "metadata": {},
   "outputs": [],
   "source": [
    "from sklearn.ensemble import RandomForestRegressor as RFR  \n",
    "from sklearn.tree import ExtraTreeRegressor as ETR\n",
    "\n",
    "rfr=RFR()\n",
    "etr=ETR()"
   ]
  },
  {
   "cell_type": "code",
   "execution_count": 125,
   "id": "4a20facd",
   "metadata": {},
   "outputs": [],
   "source": [
    "from sklearn.ensemble import GradientBoostingRegressor as GBR\n",
    "\n",
    "from xgboost import XGBRegressor as XGBR\n",
    "\n",
    "from catboost import CatBoostRegressor as CTR\n",
    "\n",
    "from lightgbm import LGBMRegressor as LGBMR\n",
    "\n",
    "\n",
    "gbr=GBR()\n",
    "xgbr=XGBR()\n",
    "ctr=CTR()\n",
    "lgbmr=LGBMR()"
   ]
  },
  {
   "cell_type": "markdown",
   "id": "14d2afab",
   "metadata": {},
   "source": [
    "##### Random forest"
   ]
  },
  {
   "cell_type": "code",
   "execution_count": null,
   "id": "321766ea",
   "metadata": {},
   "outputs": [],
   "source": [
    "rfr.fit(X_train, y_train)\n",
    "etr.fit(X_train, y_train)"
   ]
  },
  {
   "cell_type": "code",
   "execution_count": 126,
   "id": "47890640",
   "metadata": {},
   "outputs": [],
   "source": [
    "from sklearn.metrics import mean_squared_error as mse  # error cuadratico medio"
   ]
  },
  {
   "cell_type": "code",
   "execution_count": null,
   "id": "95ea82dc",
   "metadata": {},
   "outputs": [],
   "source": [
    "y_pred=rfr.predict(X_test)\n",
    "\n",
    "mse(y_test, y_pred, squared=False)  # RMSE"
   ]
  },
  {
   "cell_type": "code",
   "execution_count": null,
   "id": "3aa8e872",
   "metadata": {},
   "outputs": [],
   "source": [
    "# etr\n",
    "y_pred=etr.predict(X_test)\n",
    "\n",
    "mse(y_test, y_pred, squared=False)  # RMSE"
   ]
  },
  {
   "cell_type": "markdown",
   "id": "383ed889",
   "metadata": {},
   "source": [
    "##### GBR, XGBR, CTR, LGBMR"
   ]
  },
  {
   "cell_type": "code",
   "execution_count": 127,
   "id": "8cb0269c",
   "metadata": {},
   "outputs": [
    {
     "data": {
      "text/plain": [
       "GradientBoostingRegressor()"
      ]
     },
     "execution_count": 127,
     "metadata": {},
     "output_type": "execute_result"
    }
   ],
   "source": [
    "# boosting\n",
    "gbr.fit(X_train, y_train)"
   ]
  },
  {
   "cell_type": "code",
   "execution_count": 128,
   "id": "b734ddb6",
   "metadata": {},
   "outputs": [
    {
     "data": {
      "text/plain": [
       "49142.23514678718"
      ]
     },
     "execution_count": 128,
     "metadata": {},
     "output_type": "execute_result"
    }
   ],
   "source": [
    "y_pred=gbr.predict(X_test)\n",
    "\n",
    "mse(y_test, y_pred, squared=False)  # RMSE"
   ]
  },
  {
   "cell_type": "code",
   "execution_count": 129,
   "id": "57004246",
   "metadata": {},
   "outputs": [
    {
     "data": {
      "text/plain": [
       "XGBRegressor(base_score=0.5, booster='gbtree', callbacks=None,\n",
       "             colsample_bylevel=1, colsample_bynode=1, colsample_bytree=1,\n",
       "             early_stopping_rounds=None, enable_categorical=False,\n",
       "             eval_metric=None, gamma=0, gpu_id=-1, grow_policy='depthwise',\n",
       "             importance_type=None, interaction_constraints='',\n",
       "             learning_rate=0.300000012, max_bin=256, max_cat_to_onehot=4,\n",
       "             max_delta_step=0, max_depth=6, max_leaves=0, min_child_weight=1,\n",
       "             missing=nan, monotone_constraints='()', n_estimators=100, n_jobs=0,\n",
       "             num_parallel_tree=1, predictor='auto', random_state=0, reg_alpha=0,\n",
       "             reg_lambda=1, ...)"
      ]
     },
     "execution_count": 129,
     "metadata": {},
     "output_type": "execute_result"
    }
   ],
   "source": [
    "xgbr.fit(X_train, y_train)"
   ]
  },
  {
   "cell_type": "code",
   "execution_count": 130,
   "id": "8f1d1ece",
   "metadata": {},
   "outputs": [
    {
     "data": {
      "text/plain": [
       "53162.9935495679"
      ]
     },
     "execution_count": 130,
     "metadata": {},
     "output_type": "execute_result"
    }
   ],
   "source": [
    "y_pred=xgbr.predict(X_test)\n",
    "\n",
    "mse(y_test, y_pred, squared=False)  # RMSE"
   ]
  },
  {
   "cell_type": "code",
   "execution_count": 131,
   "id": "1f22ce9a",
   "metadata": {},
   "outputs": [
    {
     "data": {
      "text/plain": [
       "<catboost.core.CatBoostRegressor at 0x28e5618fb20>"
      ]
     },
     "execution_count": 131,
     "metadata": {},
     "output_type": "execute_result"
    }
   ],
   "source": [
    "ctr.fit(X_train, y_train, verbose=0)"
   ]
  },
  {
   "cell_type": "code",
   "execution_count": 132,
   "id": "3a809e23",
   "metadata": {},
   "outputs": [
    {
     "data": {
      "text/plain": [
       "50983.60807543205"
      ]
     },
     "execution_count": 132,
     "metadata": {},
     "output_type": "execute_result"
    }
   ],
   "source": [
    "y_pred=ctr.predict(X_test)\n",
    "\n",
    "mse(y_test, y_pred, squared=False)  # RMSE"
   ]
  },
  {
   "cell_type": "code",
   "execution_count": 133,
   "id": "659d5975",
   "metadata": {},
   "outputs": [
    {
     "data": {
      "text/plain": [
       "LGBMRegressor()"
      ]
     },
     "execution_count": 133,
     "metadata": {},
     "output_type": "execute_result"
    }
   ],
   "source": [
    "lgbmr.fit(X_train, y_train)"
   ]
  },
  {
   "cell_type": "code",
   "execution_count": 134,
   "id": "2ce3cfe9",
   "metadata": {},
   "outputs": [
    {
     "data": {
      "text/plain": [
       "48923.419026221985"
      ]
     },
     "execution_count": 134,
     "metadata": {},
     "output_type": "execute_result"
    }
   ],
   "source": [
    "y_pred=lgbmr.predict(X_test)\n",
    "\n",
    "mse(y_test, y_pred, squared=False)  # RMSE"
   ]
  },
  {
   "cell_type": "markdown",
   "id": "c8cf9a48",
   "metadata": {},
   "source": [
    "## Mejor modelo: Light GBM"
   ]
  },
  {
   "cell_type": "markdown",
   "id": "1f2d2503",
   "metadata": {},
   "source": [
    "Entrenar con X, y y luego predecir con Test"
   ]
  },
  {
   "cell_type": "code",
   "execution_count": 135,
   "id": "34996585",
   "metadata": {},
   "outputs": [
    {
     "data": {
      "text/plain": [
       "LGBMRegressor()"
      ]
     },
     "execution_count": 135,
     "metadata": {},
     "output_type": "execute_result"
    }
   ],
   "source": [
    "lgbmr.fit(X,y)"
   ]
  },
  {
   "cell_type": "code",
   "execution_count": 136,
   "id": "66f13567",
   "metadata": {},
   "outputs": [],
   "source": [
    "y_pred=ctr.predict(datos_test_ok)"
   ]
  },
  {
   "cell_type": "code",
   "execution_count": 137,
   "id": "143789f0",
   "metadata": {},
   "outputs": [],
   "source": [
    "df = pd.DataFrame(y_pred, columns = ['salary_in_usd'])\n",
    "\n",
    "df['id']= [i for i in range(len(df))]\n",
    "\n",
    "df = df[['id', 'salary_in_usd']]\n",
    "\n",
    "df.to_csv('data/kaggle_upload/lastone_cols.csv', index=False)"
   ]
  },
  {
   "cell_type": "markdown",
   "id": "b7d666a1",
   "metadata": {},
   "source": [
    "------------------------------------------------"
   ]
  },
  {
   "cell_type": "markdown",
   "id": "088c2c14",
   "metadata": {},
   "source": [
    "## H20"
   ]
  },
  {
   "cell_type": "markdown",
   "id": "99922520",
   "metadata": {},
   "source": [
    "H20 puede estimar mejor y también podemos ver qué importancia tiene cada variable"
   ]
  },
  {
   "cell_type": "code",
   "execution_count": 75,
   "id": "c263c873",
   "metadata": {},
   "outputs": [],
   "source": [
    "import h2o\n",
    "from h2o.automl import H2OAutoML"
   ]
  },
  {
   "cell_type": "code",
   "execution_count": 76,
   "id": "b8323c3f",
   "metadata": {
    "scrolled": false
   },
   "outputs": [
    {
     "name": "stdout",
     "output_type": "stream",
     "text": [
      "Checking whether there is an H2O instance running at http://localhost:54321 ..... not found.\n",
      "Attempting to start a local H2O server...\n",
      "; Java HotSpot(TM) 64-Bit Server VM (build 25.251-b08, mixed mode)\n",
      "  Starting server from D:\\Programas\\Miniconda3\\envs\\kaggle\\Lib\\site-packages\\h2o\\backend\\bin\\h2o.jar\n",
      "  Ice root: C:\\Users\\IRENEA~1\\AppData\\Local\\Temp\\tmp7p8e3kzv\n",
      "  JVM stdout: C:\\Users\\IRENEA~1\\AppData\\Local\\Temp\\tmp7p8e3kzv\\h2o_iaguerri_started_from_python.out\n",
      "  JVM stderr: C:\\Users\\IRENEA~1\\AppData\\Local\\Temp\\tmp7p8e3kzv\\h2o_iaguerri_started_from_python.err\n",
      "  Server is running at http://127.0.0.1:54321\n",
      "Connecting to H2O server at http://127.0.0.1:54321 ... successful.\n"
     ]
    },
    {
     "data": {
      "text/html": [
       "<div style=\"overflow:auto\"><table style=\"width:50%\"><tr><td>H2O_cluster_uptime:</td>\n",
       "<td>06 secs</td></tr>\n",
       "<tr><td>H2O_cluster_timezone:</td>\n",
       "<td>Europe/Paris</td></tr>\n",
       "<tr><td>H2O_data_parsing_timezone:</td>\n",
       "<td>UTC</td></tr>\n",
       "<tr><td>H2O_cluster_version:</td>\n",
       "<td>3.36.1.3</td></tr>\n",
       "<tr><td>H2O_cluster_version_age:</td>\n",
       "<td>11 days </td></tr>\n",
       "<tr><td>H2O_cluster_name:</td>\n",
       "<td>H2O_from_python_iaguerri_qu1pt3</td></tr>\n",
       "<tr><td>H2O_cluster_total_nodes:</td>\n",
       "<td>1</td></tr>\n",
       "<tr><td>H2O_cluster_free_memory:</td>\n",
       "<td>3.533 Gb</td></tr>\n",
       "<tr><td>H2O_cluster_total_cores:</td>\n",
       "<td>0</td></tr>\n",
       "<tr><td>H2O_cluster_allowed_cores:</td>\n",
       "<td>0</td></tr>\n",
       "<tr><td>H2O_cluster_status:</td>\n",
       "<td>locked, healthy</td></tr>\n",
       "<tr><td>H2O_connection_url:</td>\n",
       "<td>http://127.0.0.1:54321</td></tr>\n",
       "<tr><td>H2O_connection_proxy:</td>\n",
       "<td>{\"http\": null, \"https\": null}</td></tr>\n",
       "<tr><td>H2O_internal_security:</td>\n",
       "<td>False</td></tr>\n",
       "<tr><td>Python_version:</td>\n",
       "<td>3.10.0 final</td></tr></table></div>"
      ],
      "text/plain": [
       "--------------------------  -------------------------------\n",
       "H2O_cluster_uptime:         06 secs\n",
       "H2O_cluster_timezone:       Europe/Paris\n",
       "H2O_data_parsing_timezone:  UTC\n",
       "H2O_cluster_version:        3.36.1.3\n",
       "H2O_cluster_version_age:    11 days\n",
       "H2O_cluster_name:           H2O_from_python_iaguerri_qu1pt3\n",
       "H2O_cluster_total_nodes:    1\n",
       "H2O_cluster_free_memory:    3.533 Gb\n",
       "H2O_cluster_total_cores:    0\n",
       "H2O_cluster_allowed_cores:  0\n",
       "H2O_cluster_status:         locked, healthy\n",
       "H2O_connection_url:         http://127.0.0.1:54321\n",
       "H2O_connection_proxy:       {\"http\": null, \"https\": null}\n",
       "H2O_internal_security:      False\n",
       "Python_version:             3.10.0 final\n",
       "--------------------------  -------------------------------"
      ]
     },
     "metadata": {},
     "output_type": "display_data"
    }
   ],
   "source": [
    "h2o.init()"
   ]
  },
  {
   "cell_type": "code",
   "execution_count": 77,
   "id": "984e0a9f",
   "metadata": {
    "scrolled": true
   },
   "outputs": [
    {
     "name": "stdout",
     "output_type": "stream",
     "text": [
      "Parse progress: |████████████████████████████████████████████████████████████████| (done) 100%\n",
      "Parse progress: |████████████████████████████████████████████████████████████████| (done) 100%\n"
     ]
    }
   ],
   "source": [
    "h2train=h2o.H2OFrame(datos_salaries_ok)\n",
    "h2test=h2o.H2OFrame(datos_test_ok)"
   ]
  },
  {
   "cell_type": "code",
   "execution_count": 78,
   "id": "13fc05a1",
   "metadata": {
    "scrolled": false
   },
   "outputs": [
    {
     "data": {
      "text/plain": [
       "['experience_level',\n",
       " 'employment_type',\n",
       " 'job_title',\n",
       " 'employee_residence',\n",
       " 'company_size',\n",
       " 'salary_in_usd']"
      ]
     },
     "execution_count": 78,
     "metadata": {},
     "output_type": "execute_result"
    }
   ],
   "source": [
    "h2train.columns"
   ]
  },
  {
   "cell_type": "code",
   "execution_count": 79,
   "id": "5ac6cff9",
   "metadata": {},
   "outputs": [],
   "source": [
    "X=[c for c in h2train.columns if c!='salary_in_usd']\n",
    "\n",
    "y='salary_in_usd'"
   ]
  },
  {
   "cell_type": "code",
   "execution_count": 80,
   "id": "7b42259a",
   "metadata": {},
   "outputs": [],
   "source": [
    "automl=H2OAutoML(max_models=50,\n",
    "                 seed=42,   # random_state\n",
    "                 max_runtime_secs=300,\n",
    "                 sort_metric='RMSE')"
   ]
  },
  {
   "cell_type": "code",
   "execution_count": 81,
   "id": "0f96dd77",
   "metadata": {
    "scrolled": false
   },
   "outputs": [
    {
     "name": "stdout",
     "output_type": "stream",
     "text": [
      "AutoML progress: |\n",
      "02:05:25.864: AutoML: XGBoost is not available; skipping it.\n",
      "\n",
      "███████████████████████████████████████████████████████████████| (done) 100%\n",
      "Model Details\n",
      "=============\n",
      "H2OGradientBoostingEstimator :  Gradient Boosting Machine\n",
      "Model Key:  GBM_grid_1_AutoML_1_20220720_20525_model_11\n",
      "\n",
      "\n",
      "Model Summary: \n"
     ]
    },
    {
     "data": {
      "text/html": [
       "<div>\n",
       "<style scoped>\n",
       "    .dataframe tbody tr th:only-of-type {\n",
       "        vertical-align: middle;\n",
       "    }\n",
       "\n",
       "    .dataframe tbody tr th {\n",
       "        vertical-align: top;\n",
       "    }\n",
       "\n",
       "    .dataframe thead th {\n",
       "        text-align: right;\n",
       "    }\n",
       "</style>\n",
       "<table border=\"1\" class=\"dataframe\">\n",
       "  <thead>\n",
       "    <tr style=\"text-align: right;\">\n",
       "      <th></th>\n",
       "      <th></th>\n",
       "      <th>number_of_trees</th>\n",
       "      <th>number_of_internal_trees</th>\n",
       "      <th>model_size_in_bytes</th>\n",
       "      <th>min_depth</th>\n",
       "      <th>max_depth</th>\n",
       "      <th>mean_depth</th>\n",
       "      <th>min_leaves</th>\n",
       "      <th>max_leaves</th>\n",
       "      <th>mean_leaves</th>\n",
       "    </tr>\n",
       "  </thead>\n",
       "  <tbody>\n",
       "    <tr>\n",
       "      <th>0</th>\n",
       "      <td></td>\n",
       "      <td>40.0</td>\n",
       "      <td>40.0</td>\n",
       "      <td>10604.0</td>\n",
       "      <td>4.0</td>\n",
       "      <td>10.0</td>\n",
       "      <td>6.525</td>\n",
       "      <td>9.0</td>\n",
       "      <td>22.0</td>\n",
       "      <td>16.45</td>\n",
       "    </tr>\n",
       "  </tbody>\n",
       "</table>\n",
       "</div>"
      ],
      "text/plain": [
       "     number_of_trees  number_of_internal_trees  model_size_in_bytes  \\\n",
       "0               40.0                      40.0              10604.0   \n",
       "\n",
       "   min_depth  max_depth  mean_depth  min_leaves  max_leaves  mean_leaves  \n",
       "0        4.0       10.0       6.525         9.0        22.0        16.45  "
      ]
     },
     "metadata": {},
     "output_type": "display_data"
    },
    {
     "name": "stdout",
     "output_type": "stream",
     "text": [
      "\n",
      "\n",
      "ModelMetricsRegression: gbm\n",
      "** Reported on train data. **\n",
      "\n",
      "MSE: 1796929566.0990767\n",
      "RMSE: 42390.206016237724\n",
      "MAE: 28482.3257578125\n",
      "RMSLE: 0.45392583252133156\n",
      "Mean Residual Deviance: 1796929566.0990767\n",
      "\n",
      "ModelMetricsRegression: gbm\n",
      "** Reported on cross-validation data. **\n",
      "\n",
      "MSE: 2371723840.77729\n",
      "RMSE: 48700.347440005906\n",
      "MAE: 33183.20920026915\n",
      "RMSLE: 0.5362472154556555\n",
      "Mean Residual Deviance: 2371723840.77729\n",
      "\n",
      "Cross-Validation Metrics Summary: \n"
     ]
    },
    {
     "data": {
      "text/html": [
       "<div>\n",
       "<style scoped>\n",
       "    .dataframe tbody tr th:only-of-type {\n",
       "        vertical-align: middle;\n",
       "    }\n",
       "\n",
       "    .dataframe tbody tr th {\n",
       "        vertical-align: top;\n",
       "    }\n",
       "\n",
       "    .dataframe thead th {\n",
       "        text-align: right;\n",
       "    }\n",
       "</style>\n",
       "<table border=\"1\" class=\"dataframe\">\n",
       "  <thead>\n",
       "    <tr style=\"text-align: right;\">\n",
       "      <th></th>\n",
       "      <th></th>\n",
       "      <th>mean</th>\n",
       "      <th>sd</th>\n",
       "      <th>cv_1_valid</th>\n",
       "      <th>cv_2_valid</th>\n",
       "      <th>cv_3_valid</th>\n",
       "      <th>cv_4_valid</th>\n",
       "      <th>cv_5_valid</th>\n",
       "    </tr>\n",
       "  </thead>\n",
       "  <tbody>\n",
       "    <tr>\n",
       "      <th>0</th>\n",
       "      <td>mae</td>\n",
       "      <td>3.331041e+04</td>\n",
       "      <td>2.079206e+03</td>\n",
       "      <td>3.578546e+04</td>\n",
       "      <td>3.099880e+04</td>\n",
       "      <td>3.133612e+04</td>\n",
       "      <td>3.383802e+04</td>\n",
       "      <td>3.459367e+04</td>\n",
       "    </tr>\n",
       "    <tr>\n",
       "      <th>1</th>\n",
       "      <td>mean_residual_deviance</td>\n",
       "      <td>2.395348e+09</td>\n",
       "      <td>6.905419e+08</td>\n",
       "      <td>3.193801e+09</td>\n",
       "      <td>1.628626e+09</td>\n",
       "      <td>1.730742e+09</td>\n",
       "      <td>2.570303e+09</td>\n",
       "      <td>2.853269e+09</td>\n",
       "    </tr>\n",
       "    <tr>\n",
       "      <th>2</th>\n",
       "      <td>mse</td>\n",
       "      <td>2.395348e+09</td>\n",
       "      <td>6.905419e+08</td>\n",
       "      <td>3.193801e+09</td>\n",
       "      <td>1.628626e+09</td>\n",
       "      <td>1.730742e+09</td>\n",
       "      <td>2.570303e+09</td>\n",
       "      <td>2.853269e+09</td>\n",
       "    </tr>\n",
       "    <tr>\n",
       "      <th>3</th>\n",
       "      <td>r2</td>\n",
       "      <td>5.031195e-01</td>\n",
       "      <td>6.959842e-02</td>\n",
       "      <td>4.428318e-01</td>\n",
       "      <td>6.128739e-01</td>\n",
       "      <td>4.639584e-01</td>\n",
       "      <td>5.304356e-01</td>\n",
       "      <td>4.654981e-01</td>\n",
       "    </tr>\n",
       "    <tr>\n",
       "      <th>4</th>\n",
       "      <td>residual_deviance</td>\n",
       "      <td>2.395348e+09</td>\n",
       "      <td>6.905419e+08</td>\n",
       "      <td>3.193801e+09</td>\n",
       "      <td>1.628626e+09</td>\n",
       "      <td>1.730742e+09</td>\n",
       "      <td>2.570303e+09</td>\n",
       "      <td>2.853269e+09</td>\n",
       "    </tr>\n",
       "    <tr>\n",
       "      <th>5</th>\n",
       "      <td>rmse</td>\n",
       "      <td>4.851726e+04</td>\n",
       "      <td>7.195796e+03</td>\n",
       "      <td>5.651373e+04</td>\n",
       "      <td>4.035624e+04</td>\n",
       "      <td>4.160219e+04</td>\n",
       "      <td>5.069816e+04</td>\n",
       "      <td>5.341600e+04</td>\n",
       "    </tr>\n",
       "    <tr>\n",
       "      <th>6</th>\n",
       "      <td>rmsle</td>\n",
       "      <td>5.298170e-01</td>\n",
       "      <td>5.868105e-02</td>\n",
       "      <td>4.417152e-01</td>\n",
       "      <td>6.028529e-01</td>\n",
       "      <td>5.380841e-01</td>\n",
       "      <td>5.160957e-01</td>\n",
       "      <td>5.503370e-01</td>\n",
       "    </tr>\n",
       "  </tbody>\n",
       "</table>\n",
       "</div>"
      ],
      "text/plain": [
       "                                   mean            sd    cv_1_valid  \\\n",
       "0                     mae  3.331041e+04  2.079206e+03  3.578546e+04   \n",
       "1  mean_residual_deviance  2.395348e+09  6.905419e+08  3.193801e+09   \n",
       "2                     mse  2.395348e+09  6.905419e+08  3.193801e+09   \n",
       "3                      r2  5.031195e-01  6.959842e-02  4.428318e-01   \n",
       "4       residual_deviance  2.395348e+09  6.905419e+08  3.193801e+09   \n",
       "5                    rmse  4.851726e+04  7.195796e+03  5.651373e+04   \n",
       "6                   rmsle  5.298170e-01  5.868105e-02  4.417152e-01   \n",
       "\n",
       "     cv_2_valid    cv_3_valid    cv_4_valid    cv_5_valid  \n",
       "0  3.099880e+04  3.133612e+04  3.383802e+04  3.459367e+04  \n",
       "1  1.628626e+09  1.730742e+09  2.570303e+09  2.853269e+09  \n",
       "2  1.628626e+09  1.730742e+09  2.570303e+09  2.853269e+09  \n",
       "3  6.128739e-01  4.639584e-01  5.304356e-01  4.654981e-01  \n",
       "4  1.628626e+09  1.730742e+09  2.570303e+09  2.853269e+09  \n",
       "5  4.035624e+04  4.160219e+04  5.069816e+04  5.341600e+04  \n",
       "6  6.028529e-01  5.380841e-01  5.160957e-01  5.503370e-01  "
      ]
     },
     "metadata": {},
     "output_type": "display_data"
    },
    {
     "name": "stdout",
     "output_type": "stream",
     "text": [
      "\n",
      "Scoring History: \n"
     ]
    },
    {
     "data": {
      "text/html": [
       "<div>\n",
       "<style scoped>\n",
       "    .dataframe tbody tr th:only-of-type {\n",
       "        vertical-align: middle;\n",
       "    }\n",
       "\n",
       "    .dataframe tbody tr th {\n",
       "        vertical-align: top;\n",
       "    }\n",
       "\n",
       "    .dataframe thead th {\n",
       "        text-align: right;\n",
       "    }\n",
       "</style>\n",
       "<table border=\"1\" class=\"dataframe\">\n",
       "  <thead>\n",
       "    <tr style=\"text-align: right;\">\n",
       "      <th></th>\n",
       "      <th></th>\n",
       "      <th>timestamp</th>\n",
       "      <th>duration</th>\n",
       "      <th>number_of_trees</th>\n",
       "      <th>training_rmse</th>\n",
       "      <th>training_mae</th>\n",
       "      <th>training_deviance</th>\n",
       "    </tr>\n",
       "  </thead>\n",
       "  <tbody>\n",
       "    <tr>\n",
       "      <th>0</th>\n",
       "      <td></td>\n",
       "      <td>2022-07-20 02:05:31</td>\n",
       "      <td>2.239 sec</td>\n",
       "      <td>0.0</td>\n",
       "      <td>69544.102008</td>\n",
       "      <td>52000.597920</td>\n",
       "      <td>4.836382e+09</td>\n",
       "    </tr>\n",
       "    <tr>\n",
       "      <th>1</th>\n",
       "      <td></td>\n",
       "      <td>2022-07-20 02:05:31</td>\n",
       "      <td>2.239 sec</td>\n",
       "      <td>5.0</td>\n",
       "      <td>57819.753955</td>\n",
       "      <td>40964.534109</td>\n",
       "      <td>3.343124e+09</td>\n",
       "    </tr>\n",
       "    <tr>\n",
       "      <th>2</th>\n",
       "      <td></td>\n",
       "      <td>2022-07-20 02:05:31</td>\n",
       "      <td>2.254 sec</td>\n",
       "      <td>10.0</td>\n",
       "      <td>51566.965490</td>\n",
       "      <td>35389.128172</td>\n",
       "      <td>2.659152e+09</td>\n",
       "    </tr>\n",
       "    <tr>\n",
       "      <th>3</th>\n",
       "      <td></td>\n",
       "      <td>2022-07-20 02:05:31</td>\n",
       "      <td>2.254 sec</td>\n",
       "      <td>15.0</td>\n",
       "      <td>47816.082097</td>\n",
       "      <td>32524.076211</td>\n",
       "      <td>2.286378e+09</td>\n",
       "    </tr>\n",
       "    <tr>\n",
       "      <th>4</th>\n",
       "      <td></td>\n",
       "      <td>2022-07-20 02:05:31</td>\n",
       "      <td>2.275 sec</td>\n",
       "      <td>20.0</td>\n",
       "      <td>45835.239538</td>\n",
       "      <td>31029.320215</td>\n",
       "      <td>2.100869e+09</td>\n",
       "    </tr>\n",
       "    <tr>\n",
       "      <th>5</th>\n",
       "      <td></td>\n",
       "      <td>2022-07-20 02:05:31</td>\n",
       "      <td>2.275 sec</td>\n",
       "      <td>25.0</td>\n",
       "      <td>44741.993205</td>\n",
       "      <td>30059.967883</td>\n",
       "      <td>2.001846e+09</td>\n",
       "    </tr>\n",
       "    <tr>\n",
       "      <th>6</th>\n",
       "      <td></td>\n",
       "      <td>2022-07-20 02:05:31</td>\n",
       "      <td>2.290 sec</td>\n",
       "      <td>30.0</td>\n",
       "      <td>43604.513368</td>\n",
       "      <td>29388.378287</td>\n",
       "      <td>1.901354e+09</td>\n",
       "    </tr>\n",
       "    <tr>\n",
       "      <th>7</th>\n",
       "      <td></td>\n",
       "      <td>2022-07-20 02:05:31</td>\n",
       "      <td>2.299 sec</td>\n",
       "      <td>35.0</td>\n",
       "      <td>42917.247267</td>\n",
       "      <td>28932.977955</td>\n",
       "      <td>1.841890e+09</td>\n",
       "    </tr>\n",
       "    <tr>\n",
       "      <th>8</th>\n",
       "      <td></td>\n",
       "      <td>2022-07-20 02:05:31</td>\n",
       "      <td>2.308 sec</td>\n",
       "      <td>40.0</td>\n",
       "      <td>42390.206016</td>\n",
       "      <td>28482.325758</td>\n",
       "      <td>1.796930e+09</td>\n",
       "    </tr>\n",
       "  </tbody>\n",
       "</table>\n",
       "</div>"
      ],
      "text/plain": [
       "               timestamp    duration  number_of_trees  training_rmse  \\\n",
       "0    2022-07-20 02:05:31   2.239 sec              0.0   69544.102008   \n",
       "1    2022-07-20 02:05:31   2.239 sec              5.0   57819.753955   \n",
       "2    2022-07-20 02:05:31   2.254 sec             10.0   51566.965490   \n",
       "3    2022-07-20 02:05:31   2.254 sec             15.0   47816.082097   \n",
       "4    2022-07-20 02:05:31   2.275 sec             20.0   45835.239538   \n",
       "5    2022-07-20 02:05:31   2.275 sec             25.0   44741.993205   \n",
       "6    2022-07-20 02:05:31   2.290 sec             30.0   43604.513368   \n",
       "7    2022-07-20 02:05:31   2.299 sec             35.0   42917.247267   \n",
       "8    2022-07-20 02:05:31   2.308 sec             40.0   42390.206016   \n",
       "\n",
       "   training_mae  training_deviance  \n",
       "0  52000.597920       4.836382e+09  \n",
       "1  40964.534109       3.343124e+09  \n",
       "2  35389.128172       2.659152e+09  \n",
       "3  32524.076211       2.286378e+09  \n",
       "4  31029.320215       2.100869e+09  \n",
       "5  30059.967883       2.001846e+09  \n",
       "6  29388.378287       1.901354e+09  \n",
       "7  28932.977955       1.841890e+09  \n",
       "8  28482.325758       1.796930e+09  "
      ]
     },
     "metadata": {},
     "output_type": "display_data"
    },
    {
     "name": "stdout",
     "output_type": "stream",
     "text": [
      "\n",
      "Variable Importances: \n"
     ]
    },
    {
     "data": {
      "text/html": [
       "<div>\n",
       "<style scoped>\n",
       "    .dataframe tbody tr th:only-of-type {\n",
       "        vertical-align: middle;\n",
       "    }\n",
       "\n",
       "    .dataframe tbody tr th {\n",
       "        vertical-align: top;\n",
       "    }\n",
       "\n",
       "    .dataframe thead th {\n",
       "        text-align: right;\n",
       "    }\n",
       "</style>\n",
       "<table border=\"1\" class=\"dataframe\">\n",
       "  <thead>\n",
       "    <tr style=\"text-align: right;\">\n",
       "      <th></th>\n",
       "      <th>variable</th>\n",
       "      <th>relative_importance</th>\n",
       "      <th>scaled_importance</th>\n",
       "      <th>percentage</th>\n",
       "    </tr>\n",
       "  </thead>\n",
       "  <tbody>\n",
       "    <tr>\n",
       "      <th>0</th>\n",
       "      <td>employee_residence</td>\n",
       "      <td>2.976182e+12</td>\n",
       "      <td>1.000000</td>\n",
       "      <td>0.421335</td>\n",
       "    </tr>\n",
       "    <tr>\n",
       "      <th>1</th>\n",
       "      <td>experience_level</td>\n",
       "      <td>2.108389e+12</td>\n",
       "      <td>0.708421</td>\n",
       "      <td>0.298483</td>\n",
       "    </tr>\n",
       "    <tr>\n",
       "      <th>2</th>\n",
       "      <td>job_title</td>\n",
       "      <td>1.662519e+12</td>\n",
       "      <td>0.558608</td>\n",
       "      <td>0.235361</td>\n",
       "    </tr>\n",
       "    <tr>\n",
       "      <th>3</th>\n",
       "      <td>company_size</td>\n",
       "      <td>3.166044e+11</td>\n",
       "      <td>0.106379</td>\n",
       "      <td>0.044821</td>\n",
       "    </tr>\n",
       "    <tr>\n",
       "      <th>4</th>\n",
       "      <td>employment_type</td>\n",
       "      <td>0.000000e+00</td>\n",
       "      <td>0.000000</td>\n",
       "      <td>0.000000</td>\n",
       "    </tr>\n",
       "  </tbody>\n",
       "</table>\n",
       "</div>"
      ],
      "text/plain": [
       "             variable  relative_importance  scaled_importance  percentage\n",
       "0  employee_residence         2.976182e+12           1.000000    0.421335\n",
       "1    experience_level         2.108389e+12           0.708421    0.298483\n",
       "2           job_title         1.662519e+12           0.558608    0.235361\n",
       "3        company_size         3.166044e+11           0.106379    0.044821\n",
       "4     employment_type         0.000000e+00           0.000000    0.000000"
      ]
     },
     "metadata": {},
     "output_type": "display_data"
    },
    {
     "data": {
      "text/plain": []
     },
     "execution_count": 81,
     "metadata": {},
     "output_type": "execute_result"
    }
   ],
   "source": [
    "# entrena\n",
    "automl.train(x=X,\n",
    "             y=y,\n",
    "             training_frame=h2train)"
   ]
  },
  {
   "cell_type": "markdown",
   "id": "e8267038",
   "metadata": {},
   "source": [
    "#### Mejor modelo GBM - Gradient Boosting"
   ]
  },
  {
   "cell_type": "code",
   "execution_count": 82,
   "id": "8b5a10dc",
   "metadata": {
    "scrolled": true
   },
   "outputs": [
    {
     "name": "stdout",
     "output_type": "stream",
     "text": [
      "[INFO] Leader board:\n"
     ]
    },
    {
     "data": {
      "text/html": [
       "<table>\n",
       "<thead>\n",
       "<tr><th>model_id                                   </th><th style=\"text-align: right;\">   rmse</th><th style=\"text-align: right;\">        mse</th><th style=\"text-align: right;\">    mae</th><th style=\"text-align: right;\">   rmsle</th><th style=\"text-align: right;\">  mean_residual_deviance</th></tr>\n",
       "</thead>\n",
       "<tbody>\n",
       "<tr><td>GBM_grid_1_AutoML_1_20220720_20525_model_11</td><td style=\"text-align: right;\">48700.3</td><td style=\"text-align: right;\">2.37172e+09</td><td style=\"text-align: right;\">33183.2</td><td style=\"text-align: right;\">0.536247</td><td style=\"text-align: right;\">             2.37172e+09</td></tr>\n",
       "<tr><td>GBM_grid_1_AutoML_1_20220720_20525_model_9 </td><td style=\"text-align: right;\">48820.3</td><td style=\"text-align: right;\">2.38342e+09</td><td style=\"text-align: right;\">33185.7</td><td style=\"text-align: right;\">0.53727 </td><td style=\"text-align: right;\">             2.38342e+09</td></tr>\n",
       "<tr><td>GBM_grid_1_AutoML_1_20220720_20525_model_2 </td><td style=\"text-align: right;\">48846.1</td><td style=\"text-align: right;\">2.38594e+09</td><td style=\"text-align: right;\">33105.2</td><td style=\"text-align: right;\">0.530191</td><td style=\"text-align: right;\">             2.38594e+09</td></tr>\n",
       "<tr><td>GBM_2_AutoML_1_20220720_20525              </td><td style=\"text-align: right;\">49003.1</td><td style=\"text-align: right;\">2.4013e+09 </td><td style=\"text-align: right;\">33433.4</td><td style=\"text-align: right;\">0.538858</td><td style=\"text-align: right;\">             2.4013e+09 </td></tr>\n",
       "<tr><td>GBM_grid_1_AutoML_1_20220720_20525_model_15</td><td style=\"text-align: right;\">49177.6</td><td style=\"text-align: right;\">2.41844e+09</td><td style=\"text-align: right;\">33456  </td><td style=\"text-align: right;\">0.53137 </td><td style=\"text-align: right;\">             2.41844e+09</td></tr>\n",
       "<tr><td>GBM_3_AutoML_1_20220720_20525              </td><td style=\"text-align: right;\">49232.8</td><td style=\"text-align: right;\">2.42387e+09</td><td style=\"text-align: right;\">33318.3</td><td style=\"text-align: right;\">0.527512</td><td style=\"text-align: right;\">             2.42387e+09</td></tr>\n",
       "<tr><td>GBM_5_AutoML_1_20220720_20525              </td><td style=\"text-align: right;\">49247.8</td><td style=\"text-align: right;\">2.42534e+09</td><td style=\"text-align: right;\">33408.1</td><td style=\"text-align: right;\">0.559639</td><td style=\"text-align: right;\">             2.42534e+09</td></tr>\n",
       "<tr><td>GBM_4_AutoML_1_20220720_20525              </td><td style=\"text-align: right;\">49320  </td><td style=\"text-align: right;\">2.43246e+09</td><td style=\"text-align: right;\">33430.2</td><td style=\"text-align: right;\">0.539192</td><td style=\"text-align: right;\">             2.43246e+09</td></tr>\n",
       "<tr><td>GBM_grid_1_AutoML_1_20220720_20525_model_4 </td><td style=\"text-align: right;\">49468.3</td><td style=\"text-align: right;\">2.44711e+09</td><td style=\"text-align: right;\">33545.7</td><td style=\"text-align: right;\">0.551972</td><td style=\"text-align: right;\">             2.44711e+09</td></tr>\n",
       "<tr><td>GBM_grid_1_AutoML_1_20220720_20525_model_8 </td><td style=\"text-align: right;\">49654.8</td><td style=\"text-align: right;\">2.4656e+09 </td><td style=\"text-align: right;\">33736.8</td><td style=\"text-align: right;\">0.539459</td><td style=\"text-align: right;\">             2.4656e+09 </td></tr>\n",
       "</tbody>\n",
       "</table>"
      ]
     },
     "metadata": {},
     "output_type": "display_data"
    },
    {
     "data": {
      "text/plain": []
     },
     "execution_count": 82,
     "metadata": {},
     "output_type": "execute_result"
    }
   ],
   "source": [
    "print('[INFO] Leader board:')\n",
    "\n",
    "leader_board=automl.leaderboard\n",
    "\n",
    "leader_board.head()"
   ]
  },
  {
   "cell_type": "code",
   "execution_count": 84,
   "id": "02248387",
   "metadata": {},
   "outputs": [
    {
     "data": {
      "text/plain": [
       "['experience_level',\n",
       " 'employment_type',\n",
       " 'job_title',\n",
       " 'employee_residence',\n",
       " 'company_size']"
      ]
     },
     "execution_count": 84,
     "metadata": {},
     "output_type": "execute_result"
    }
   ],
   "source": [
    "# h2test= h2test.drop('salary_in_usd',axis=1)\n",
    "h2test.columns"
   ]
  },
  {
   "cell_type": "code",
   "execution_count": 85,
   "id": "e1490713",
   "metadata": {},
   "outputs": [
    {
     "name": "stdout",
     "output_type": "stream",
     "text": [
      "gbm prediction progress: |███████████████████████████████████████████████████████| (done) 100%\n"
     ]
    }
   ],
   "source": [
    "y_pred=automl.leader.predict(h2test)"
   ]
  },
  {
   "cell_type": "code",
   "execution_count": 86,
   "id": "4b434982",
   "metadata": {},
   "outputs": [],
   "source": [
    "data_as_df = y_pred.as_data_frame()"
   ]
  },
  {
   "cell_type": "code",
   "execution_count": 90,
   "id": "82744eef",
   "metadata": {
    "scrolled": true
   },
   "outputs": [
    {
     "data": {
      "text/html": [
       "<div>\n",
       "<style scoped>\n",
       "    .dataframe tbody tr th:only-of-type {\n",
       "        vertical-align: middle;\n",
       "    }\n",
       "\n",
       "    .dataframe tbody tr th {\n",
       "        vertical-align: top;\n",
       "    }\n",
       "\n",
       "    .dataframe thead th {\n",
       "        text-align: right;\n",
       "    }\n",
       "</style>\n",
       "<table border=\"1\" class=\"dataframe\">\n",
       "  <thead>\n",
       "    <tr style=\"text-align: right;\">\n",
       "      <th></th>\n",
       "      <th>id</th>\n",
       "      <th>salary_in_usd</th>\n",
       "    </tr>\n",
       "  </thead>\n",
       "  <tbody>\n",
       "    <tr>\n",
       "      <th>0</th>\n",
       "      <td>0</td>\n",
       "      <td>84040.989895</td>\n",
       "    </tr>\n",
       "    <tr>\n",
       "      <th>1</th>\n",
       "      <td>1</td>\n",
       "      <td>158128.661116</td>\n",
       "    </tr>\n",
       "    <tr>\n",
       "      <th>2</th>\n",
       "      <td>2</td>\n",
       "      <td>113634.814871</td>\n",
       "    </tr>\n",
       "    <tr>\n",
       "      <th>3</th>\n",
       "      <td>3</td>\n",
       "      <td>68876.041470</td>\n",
       "    </tr>\n",
       "    <tr>\n",
       "      <th>4</th>\n",
       "      <td>4</td>\n",
       "      <td>62718.535359</td>\n",
       "    </tr>\n",
       "    <tr>\n",
       "      <th>...</th>\n",
       "      <td>...</td>\n",
       "      <td>...</td>\n",
       "    </tr>\n",
       "    <tr>\n",
       "      <th>102</th>\n",
       "      <td>102</td>\n",
       "      <td>113105.241938</td>\n",
       "    </tr>\n",
       "    <tr>\n",
       "      <th>103</th>\n",
       "      <td>103</td>\n",
       "      <td>180000.800705</td>\n",
       "    </tr>\n",
       "    <tr>\n",
       "      <th>104</th>\n",
       "      <td>104</td>\n",
       "      <td>156547.821288</td>\n",
       "    </tr>\n",
       "    <tr>\n",
       "      <th>105</th>\n",
       "      <td>105</td>\n",
       "      <td>52624.756186</td>\n",
       "    </tr>\n",
       "    <tr>\n",
       "      <th>106</th>\n",
       "      <td>106</td>\n",
       "      <td>113105.241938</td>\n",
       "    </tr>\n",
       "  </tbody>\n",
       "</table>\n",
       "<p>107 rows × 2 columns</p>\n",
       "</div>"
      ],
      "text/plain": [
       "      id  salary_in_usd\n",
       "0      0   84040.989895\n",
       "1      1  158128.661116\n",
       "2      2  113634.814871\n",
       "3      3   68876.041470\n",
       "4      4   62718.535359\n",
       "..   ...            ...\n",
       "102  102  113105.241938\n",
       "103  103  180000.800705\n",
       "104  104  156547.821288\n",
       "105  105   52624.756186\n",
       "106  106  113105.241938\n",
       "\n",
       "[107 rows x 2 columns]"
      ]
     },
     "execution_count": 90,
     "metadata": {},
     "output_type": "execute_result"
    }
   ],
   "source": [
    "data_as_df"
   ]
  },
  {
   "cell_type": "code",
   "execution_count": 91,
   "id": "6394a6c9",
   "metadata": {},
   "outputs": [],
   "source": [
    "data_as_df= data_as_df.rename(columns={\"predict\":\"salary_in_usd\"})\n",
    "\n",
    "data_as_df['id']= [i for i in range(len(data_as_df))]\n",
    "\n",
    "data_as_df = data_as_df[['id', 'salary_in_usd']]\n",
    "\n",
    "data_as_df.to_csv('data/kaggle_upload/test5_cols_h20.csv', index=False)"
   ]
  },
  {
   "cell_type": "code",
   "execution_count": 92,
   "id": "dfd42477",
   "metadata": {
    "scrolled": true
   },
   "outputs": [
    {
     "data": {
      "text/html": [
       "<div>\n",
       "<style scoped>\n",
       "    .dataframe tbody tr th:only-of-type {\n",
       "        vertical-align: middle;\n",
       "    }\n",
       "\n",
       "    .dataframe tbody tr th {\n",
       "        vertical-align: top;\n",
       "    }\n",
       "\n",
       "    .dataframe thead th {\n",
       "        text-align: right;\n",
       "    }\n",
       "</style>\n",
       "<table border=\"1\" class=\"dataframe\">\n",
       "  <thead>\n",
       "    <tr style=\"text-align: right;\">\n",
       "      <th></th>\n",
       "      <th>id</th>\n",
       "      <th>salary_in_usd</th>\n",
       "    </tr>\n",
       "  </thead>\n",
       "  <tbody>\n",
       "    <tr>\n",
       "      <th>0</th>\n",
       "      <td>0</td>\n",
       "      <td>84040.989895</td>\n",
       "    </tr>\n",
       "    <tr>\n",
       "      <th>1</th>\n",
       "      <td>1</td>\n",
       "      <td>158128.661116</td>\n",
       "    </tr>\n",
       "    <tr>\n",
       "      <th>2</th>\n",
       "      <td>2</td>\n",
       "      <td>113634.814871</td>\n",
       "    </tr>\n",
       "    <tr>\n",
       "      <th>3</th>\n",
       "      <td>3</td>\n",
       "      <td>68876.041470</td>\n",
       "    </tr>\n",
       "    <tr>\n",
       "      <th>4</th>\n",
       "      <td>4</td>\n",
       "      <td>62718.535359</td>\n",
       "    </tr>\n",
       "  </tbody>\n",
       "</table>\n",
       "</div>"
      ],
      "text/plain": [
       "   id  salary_in_usd\n",
       "0   0   84040.989895\n",
       "1   1  158128.661116\n",
       "2   2  113634.814871\n",
       "3   3   68876.041470\n",
       "4   4   62718.535359"
      ]
     },
     "execution_count": 92,
     "metadata": {},
     "output_type": "execute_result"
    }
   ],
   "source": [
    "data_as_df.head()"
   ]
  }
 ],
 "metadata": {
  "kernelspec": {
   "display_name": "Python [conda env:kaggle] *",
   "language": "python",
   "name": "conda-env-kaggle-py"
  },
  "language_info": {
   "codemirror_mode": {
    "name": "ipython",
    "version": 3
   },
   "file_extension": ".py",
   "mimetype": "text/x-python",
   "name": "python",
   "nbconvert_exporter": "python",
   "pygments_lexer": "ipython3",
   "version": "3.10.0"
  }
 },
 "nbformat": 4,
 "nbformat_minor": 5
}
